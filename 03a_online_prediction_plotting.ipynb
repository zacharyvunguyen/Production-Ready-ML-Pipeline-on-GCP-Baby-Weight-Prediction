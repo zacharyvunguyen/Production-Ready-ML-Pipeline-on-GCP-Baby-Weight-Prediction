{
 "cells": [
  {
   "cell_type": "markdown",
   "source": [
    "## Setup\n",
    "### Import libraries"
   ],
   "metadata": {
    "collapsed": false
   }
  },
  {
   "cell_type": "code",
   "execution_count": 1,
   "outputs": [
    {
     "name": "stdout",
     "output_type": "stream",
     "text": [
      "time: 3.2 s (started: 2022-11-26 12:31:30 -06:00)\n"
     ]
    }
   ],
   "source": [
    "#!pip install ipython-autotime\n",
    "%load_ext autotime\n",
    "import os\n",
    "from tabulate import tabulate\n",
    "import numpy as np\n",
    "from google.cloud import aiplatform as aip\n",
    "from google.cloud import bigquery\n",
    "import pandas as pd"
   ],
   "metadata": {
    "collapsed": false
   }
  },
  {
   "cell_type": "markdown",
   "source": [
    "### Set configurations and constants"
   ],
   "metadata": {
    "collapsed": false
   }
  },
  {
   "cell_type": "code",
   "execution_count": 2,
   "outputs": [
    {
     "name": "stdout",
     "output_type": "stream",
     "text": [
      "time: 827 µs (started: 2022-11-26 12:31:36 -06:00)\n"
     ]
    }
   ],
   "source": [
    "NOTEBOOK ='Vertex_AI_Streamlit'\n",
    "REGION = \"us-central1\"\n",
    "PROJECT = 'babyweight-prediction'\n",
    "BUCKET = 'b_w_bucket'\n",
    "BQ_DATASET = \"bw_dataset\"\n",
    "APPNAME = \"bw-prediction\"\n",
    "GOOGLE_APPLICATION_CREDENTIALS = 'key/babyweight-prediction-ff79f406c099.json'\n",
    "\n",
    "os.environ[\"REGION\"] = REGION\n",
    "os.environ[\"PROJECT\"] = PROJECT\n",
    "os.environ[\"BUCKET\"] = BUCKET\n",
    "os.environ[\"GOOGLE_APPLICATION_CREDENTIALS\"] = GOOGLE_APPLICATION_CREDENTIALS\n",
    "GCS_BUCKET=f\"gs://{BUCKET}\""
   ],
   "metadata": {
    "collapsed": false
   }
  },
  {
   "cell_type": "markdown",
   "source": [
    "---\n",
    "## 1. Retrieve the Endpoint"
   ],
   "metadata": {
    "collapsed": false
   }
  },
  {
   "cell_type": "code",
   "execution_count": 3,
   "outputs": [
    {
     "name": "stdout",
     "output_type": "stream",
     "text": [
      "time: 367 µs (started: 2022-11-26 12:31:37 -06:00)\n"
     ]
    }
   ],
   "source": [
    "aip.init(\n",
    "    project=PROJECT,\n",
    "    location=REGION,\n",
    "    staging_bucket=GCS_BUCKET)"
   ],
   "metadata": {
    "collapsed": false
   }
  },
  {
   "cell_type": "code",
   "execution_count": 4,
   "outputs": [
    {
     "name": "stdout",
     "output_type": "stream",
     "text": [
      "time: 373 µs (started: 2022-11-26 12:31:38 -06:00)\n"
     ]
    }
   ],
   "source": [
    "ENDPOINT_NAME = 'projects/69318036822/locations/us-central1/endpoints/4074389870305345536'"
   ],
   "metadata": {
    "collapsed": false
   }
  },
  {
   "cell_type": "code",
   "execution_count": 5,
   "outputs": [
    {
     "name": "stdout",
     "output_type": "stream",
     "text": [
      "time: 18.6 ms (started: 2022-11-26 12:31:39 -06:00)\n"
     ]
    }
   ],
   "source": [
    "endpoint = aip.Endpoint(\n",
    "    project=PROJECT,\n",
    "    location=REGION,\n",
    "    endpoint_name=ENDPOINT_NAME\n",
    ")"
   ],
   "metadata": {
    "collapsed": false
   }
  },
  {
   "cell_type": "markdown",
   "source": [
    "## 2. Make Online Predictions\n",
    "### 2.1. One Sample"
   ],
   "metadata": {
    "collapsed": false
   }
  },
  {
   "cell_type": "code",
   "execution_count": 6,
   "outputs": [
    {
     "name": "stdout",
     "output_type": "stream",
     "text": [
      "time: 430 µs (started: 2022-11-26 12:31:41 -06:00)\n"
     ]
    }
   ],
   "source": [
    "instance= [\n",
    "    {'is_male': 'true',\n",
    "     'mother_age': '45.0',\n",
    "     'plurality': 'Single(1)',\n",
    "     'gestation_weeks': '35.0',\n",
    "     'cigarette_use': 'true',\n",
    "     'alcohol_use': 'false',\n",
    "     },\n",
    "]"
   ],
   "metadata": {
    "collapsed": false
   }
  },
  {
   "cell_type": "markdown",
   "source": [
    "### Get Prediction"
   ],
   "metadata": {
    "collapsed": false
   }
  },
  {
   "cell_type": "code",
   "execution_count": 7,
   "outputs": [
    {
     "data": {
      "text/plain": "Prediction(predictions=[{'value': 6.105488300323486, 'upper_bound': 4.929884910583496, 'lower_bound': 2.85607647895813}], deployed_model_id='3368705715412664320', model_version_id='1', model_resource_name='projects/69318036822/locations/us-central1/models/697490594242494464', explanations=None)"
     },
     "execution_count": 7,
     "metadata": {},
     "output_type": "execute_result"
    },
    {
     "name": "stdout",
     "output_type": "stream",
     "text": [
      "time: 1.85 s (started: 2022-11-26 12:31:43 -06:00)\n"
     ]
    }
   ],
   "source": [
    "endpoint.predict(instance)"
   ],
   "metadata": {
    "collapsed": false
   }
  },
  {
   "cell_type": "code",
   "execution_count": 8,
   "outputs": [
    {
     "data": {
      "text/plain": "6.105488300323486"
     },
     "execution_count": 8,
     "metadata": {},
     "output_type": "execute_result"
    },
    {
     "name": "stdout",
     "output_type": "stream",
     "text": [
      "time: 829 ms (started: 2022-11-26 12:31:46 -06:00)\n"
     ]
    }
   ],
   "source": [
    "predicted_value = endpoint.predict(instance).predictions[0]['value']\n",
    "predicted_value"
   ],
   "metadata": {
    "collapsed": false
   }
  },
  {
   "cell_type": "markdown",
   "source": [
    "## 3. Explaination\n",
    "### 3.1.1"
   ],
   "metadata": {
    "collapsed": false
   }
  },
  {
   "cell_type": "code",
   "execution_count": 9,
   "outputs": [
    {
     "name": "stdout",
     "output_type": "stream",
     "text": [
      "time: 1.04 s (started: 2022-11-26 12:31:49 -06:00)\n"
     ]
    }
   ],
   "source": [
    "explain=endpoint.explain(instance)"
   ],
   "metadata": {
    "collapsed": false
   }
  },
  {
   "cell_type": "code",
   "execution_count": 21,
   "outputs": [
    {
     "name": "stdout",
     "output_type": "stream",
     "text": [
      "time: 439 µs (started: 2022-11-26 12:37:00 -06:00)\n"
     ]
    }
   ],
   "source": [
    "FEATURE_COLUMNS = [\n",
    "    'is_male',\n",
    "    'mother_age',\n",
    "    'plurality',\n",
    "    'gestation_weeks',\n",
    "    'cigarette_use',\n",
    "    'alcohol_use'\n",
    "]"
   ],
   "metadata": {
    "collapsed": false
   }
  },
  {
   "cell_type": "code",
   "execution_count": 22,
   "outputs": [
    {
     "name": "stdout",
     "output_type": "stream",
     "text": [
      "time: 1.11 ms (started: 2022-11-26 12:37:01 -06:00)\n"
     ]
    }
   ],
   "source": [
    "def get_feature_attributions(\n",
    "        prediction_expl, instance_index, feature_columns=FEATURE_COLUMNS):\n",
    "    \"\"\"Returns the feature attributions with the baseline for a prediction example\"\"\"\n",
    "\n",
    "    rows = []\n",
    "    attribution = prediction_expl.explanations[instance_index].attributions[0]\n",
    "    baseline_score = attribution.baseline_output_value\n",
    "    total_att_val = baseline_score\n",
    "    for key in feature_columns:\n",
    "        feature_val = instance[instance_index][key]\n",
    "        att_val = attribution.feature_attributions[key]\n",
    "        total_att_val += att_val\n",
    "        rows.append([key,feature_val,att_val])\n",
    "\n",
    "    feature_attributions_rows = sorted(rows, key=lambda row: row[2], reverse=True)\n",
    "    feature_attributions_rows.insert(0,[\"Baseline_Score\", \"--\", baseline_score])\n",
    "    feature_attributions_rows.append([\"Final_Prediction\", \"--\", total_att_val])\n",
    "\n",
    "    return feature_attributions_rows"
   ],
   "metadata": {
    "collapsed": false
   }
  },
  {
   "cell_type": "code",
   "execution_count": 23,
   "outputs": [
    {
     "name": "stdout",
     "output_type": "stream",
     "text": [
      "time: 715 µs (started: 2022-11-26 12:37:02 -06:00)\n"
     ]
    }
   ],
   "source": [
    "feature_attributions_rows = get_feature_attributions(explain, 0)"
   ],
   "metadata": {
    "collapsed": false
   }
  },
  {
   "cell_type": "code",
   "execution_count": 24,
   "outputs": [
    {
     "name": "stdout",
     "output_type": "stream",
     "text": [
      "time: 1.11 ms (started: 2022-11-26 12:37:03 -06:00)\n"
     ]
    }
   ],
   "source": [
    "def generate_dataframe():\n",
    "    feature_list=[]\n",
    "    feature_values=[]\n",
    "    feature_contributions=[]\n",
    "    feature_attributions_rows = get_feature_attributions(explain, 0)\n",
    "\n",
    "    for i in range(len(feature_attributions_rows)):\n",
    "        feature=feature_attributions_rows[i][0]\n",
    "        feature_list.append(feature)\n",
    "\n",
    "    for i in range(len(feature_attributions_rows)):\n",
    "        feature=feature_attributions_rows[i][1]\n",
    "        feature_values.append(feature)\n",
    "\n",
    "    for i in range(len(feature_attributions_rows)):\n",
    "        feature=feature_attributions_rows[i][2]\n",
    "        feature_contributions.append(feature)\n",
    "\n",
    "    zipped = list(zip(feature_list, feature_values, feature_contributions))\n",
    "    df = pd.DataFrame(zipped, columns=['Feature', 'Value', 'Contribution'])\n",
    "\n",
    "    return df, feature_list, feature_values,feature_contributions\n"
   ],
   "metadata": {
    "collapsed": false
   }
  },
  {
   "cell_type": "code",
   "execution_count": 25,
   "outputs": [
    {
     "name": "stdout",
     "output_type": "stream",
     "text": [
      "time: 1.13 ms (started: 2022-11-26 12:37:03 -06:00)\n"
     ]
    }
   ],
   "source": [
    "df, feature_list, feature_values,feature_contributions=generate_dataframe()"
   ],
   "metadata": {
    "collapsed": false
   }
  },
  {
   "cell_type": "code",
   "execution_count": 26,
   "outputs": [
    {
     "data": {
      "text/plain": "            Feature      Value  Contribution\n0    Baseline_Score         --      7.805862\n1           is_male       true      0.000000\n2         plurality  Single(1)      0.000000\n3       alcohol_use      false      0.000000\n4        mother_age       45.0     -0.029131\n5     cigarette_use       true     -0.236360\n6   gestation_weeks       35.0     -1.434883\n7  Final_Prediction         --      6.105488",
      "text/html": "<div>\n<style scoped>\n    .dataframe tbody tr th:only-of-type {\n        vertical-align: middle;\n    }\n\n    .dataframe tbody tr th {\n        vertical-align: top;\n    }\n\n    .dataframe thead th {\n        text-align: right;\n    }\n</style>\n<table border=\"1\" class=\"dataframe\">\n  <thead>\n    <tr style=\"text-align: right;\">\n      <th></th>\n      <th>Feature</th>\n      <th>Value</th>\n      <th>Contribution</th>\n    </tr>\n  </thead>\n  <tbody>\n    <tr>\n      <th>0</th>\n      <td>Baseline_Score</td>\n      <td>--</td>\n      <td>7.805862</td>\n    </tr>\n    <tr>\n      <th>1</th>\n      <td>is_male</td>\n      <td>true</td>\n      <td>0.000000</td>\n    </tr>\n    <tr>\n      <th>2</th>\n      <td>plurality</td>\n      <td>Single(1)</td>\n      <td>0.000000</td>\n    </tr>\n    <tr>\n      <th>3</th>\n      <td>alcohol_use</td>\n      <td>false</td>\n      <td>0.000000</td>\n    </tr>\n    <tr>\n      <th>4</th>\n      <td>mother_age</td>\n      <td>45.0</td>\n      <td>-0.029131</td>\n    </tr>\n    <tr>\n      <th>5</th>\n      <td>cigarette_use</td>\n      <td>true</td>\n      <td>-0.236360</td>\n    </tr>\n    <tr>\n      <th>6</th>\n      <td>gestation_weeks</td>\n      <td>35.0</td>\n      <td>-1.434883</td>\n    </tr>\n    <tr>\n      <th>7</th>\n      <td>Final_Prediction</td>\n      <td>--</td>\n      <td>6.105488</td>\n    </tr>\n  </tbody>\n</table>\n</div>"
     },
     "execution_count": 26,
     "metadata": {},
     "output_type": "execute_result"
    },
    {
     "name": "stdout",
     "output_type": "stream",
     "text": [
      "time: 6.2 ms (started: 2022-11-26 12:37:06 -06:00)\n"
     ]
    }
   ],
   "source": [
    "df"
   ],
   "metadata": {
    "collapsed": false
   }
  },
  {
   "cell_type": "code",
   "execution_count": null,
   "outputs": [],
   "source": [],
   "metadata": {
    "collapsed": false
   }
  }
 ],
 "metadata": {
  "kernelspec": {
   "display_name": "Python 3",
   "language": "python",
   "name": "python3"
  },
  "language_info": {
   "codemirror_mode": {
    "name": "ipython",
    "version": 2
   },
   "file_extension": ".py",
   "mimetype": "text/x-python",
   "name": "python",
   "nbconvert_exporter": "python",
   "pygments_lexer": "ipython2",
   "version": "2.7.6"
  }
 },
 "nbformat": 4,
 "nbformat_minor": 0
}
