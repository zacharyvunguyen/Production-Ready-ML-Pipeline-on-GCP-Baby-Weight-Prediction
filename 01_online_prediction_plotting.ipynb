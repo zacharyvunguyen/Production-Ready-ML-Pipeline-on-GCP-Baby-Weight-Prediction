{
 "cells": [
  {
   "cell_type": "markdown",
   "source": [
    "## Setup\n",
    "### Import libraries"
   ],
   "metadata": {
    "collapsed": false
   }
  },
  {
   "cell_type": "code",
   "execution_count": 27,
   "outputs": [
    {
     "name": "stdout",
     "output_type": "stream",
     "text": [
      "The autotime extension is already loaded. To reload it, use:\n",
      "  %reload_ext autotime\n",
      "time: 1.38 ms (started: 2022-11-26 21:57:41 -06:00)\n"
     ]
    }
   ],
   "source": [
    "#!pip install ipython-autotime\n",
    "%load_ext autotime\n",
    "import os\n",
    "from tabulate import tabulate\n",
    "import numpy as np\n",
    "from google.cloud import aiplatform as aip\n",
    "from google.cloud import bigquery\n",
    "import pandas as pd"
   ],
   "metadata": {
    "collapsed": false
   }
  },
  {
   "cell_type": "markdown",
   "source": [
    "### Set configurations and constants"
   ],
   "metadata": {
    "collapsed": false
   }
  },
  {
   "cell_type": "code",
   "execution_count": 28,
   "outputs": [
    {
     "name": "stdout",
     "output_type": "stream",
     "text": [
      "time: 925 µs (started: 2022-11-26 21:57:42 -06:00)\n"
     ]
    }
   ],
   "source": [
    "NOTEBOOK ='Vertex_AI_Streamlit'\n",
    "REGION = \"us-central1\"\n",
    "PROJECT = 'babyweight-prediction'\n",
    "BUCKET = 'b_w_bucket'\n",
    "BQ_DATASET = \"bw_dataset\"\n",
    "APPNAME = \"bw-prediction\"\n",
    "GOOGLE_APPLICATION_CREDENTIALS = 'key/babyweight-prediction-ff79f406c099.json'\n",
    "\n",
    "os.environ[\"REGION\"] = REGION\n",
    "os.environ[\"PROJECT\"] = PROJECT\n",
    "os.environ[\"BUCKET\"] = BUCKET\n",
    "os.environ[\"GOOGLE_APPLICATION_CREDENTIALS\"] = GOOGLE_APPLICATION_CREDENTIALS\n",
    "GCS_BUCKET=f\"gs://{BUCKET}\""
   ],
   "metadata": {
    "collapsed": false
   }
  },
  {
   "cell_type": "markdown",
   "source": [
    "---\n",
    "## 1. Retrieve the Endpoint"
   ],
   "metadata": {
    "collapsed": false
   }
  },
  {
   "cell_type": "code",
   "execution_count": 29,
   "outputs": [
    {
     "name": "stdout",
     "output_type": "stream",
     "text": [
      "time: 439 µs (started: 2022-11-26 21:57:42 -06:00)\n"
     ]
    }
   ],
   "source": [
    "aip.init(\n",
    "    project=PROJECT,\n",
    "    location=REGION,\n",
    "    staging_bucket=GCS_BUCKET)"
   ],
   "metadata": {
    "collapsed": false
   }
  },
  {
   "cell_type": "code",
   "execution_count": 30,
   "outputs": [
    {
     "name": "stdout",
     "output_type": "stream",
     "text": [
      "time: 353 µs (started: 2022-11-26 21:57:42 -06:00)\n"
     ]
    }
   ],
   "source": [
    "ENDPOINT_NAME = 'projects/69318036822/locations/us-central1/endpoints/4074389870305345536'"
   ],
   "metadata": {
    "collapsed": false
   }
  },
  {
   "cell_type": "code",
   "execution_count": 31,
   "outputs": [
    {
     "name": "stdout",
     "output_type": "stream",
     "text": [
      "time: 14.7 ms (started: 2022-11-26 21:57:42 -06:00)\n"
     ]
    }
   ],
   "source": [
    "endpoint = aip.Endpoint(\n",
    "    project=PROJECT,\n",
    "    location=REGION,\n",
    "    endpoint_name=ENDPOINT_NAME\n",
    ")"
   ],
   "metadata": {
    "collapsed": false
   }
  },
  {
   "cell_type": "markdown",
   "source": [
    "## 2. Make Online Predictions\n",
    "### 2.1. One Sample"
   ],
   "metadata": {
    "collapsed": false
   }
  },
  {
   "cell_type": "code",
   "execution_count": 32,
   "outputs": [
    {
     "name": "stdout",
     "output_type": "stream",
     "text": [
      "time: 477 µs (started: 2022-11-26 21:57:42 -06:00)\n"
     ]
    }
   ],
   "source": [
    "instance= [\n",
    "    {'is_male': 'true',\n",
    "     'mother_age': '45.0',\n",
    "     'plurality': 'Single(1)',\n",
    "     'gestation_weeks': '35.0',\n",
    "     'cigarette_use': 'true',\n",
    "     'alcohol_use': 'false',\n",
    "     },\n",
    "]"
   ],
   "metadata": {
    "collapsed": false
   }
  },
  {
   "cell_type": "markdown",
   "source": [
    "### Get Prediction"
   ],
   "metadata": {
    "collapsed": false
   }
  },
  {
   "cell_type": "code",
   "execution_count": 33,
   "outputs": [
    {
     "data": {
      "text/plain": "Prediction(predictions=[{'lower_bound': 2.85607647895813, 'upper_bound': 4.929884910583496, 'value': 6.105488300323486}], deployed_model_id='3368705715412664320', model_version_id='1', model_resource_name='projects/69318036822/locations/us-central1/models/697490594242494464', explanations=None)"
     },
     "execution_count": 33,
     "metadata": {},
     "output_type": "execute_result"
    },
    {
     "name": "stdout",
     "output_type": "stream",
     "text": [
      "time: 1.65 s (started: 2022-11-26 21:57:42 -06:00)\n"
     ]
    }
   ],
   "source": [
    "endpoint.predict(instance)"
   ],
   "metadata": {
    "collapsed": false
   }
  },
  {
   "cell_type": "code",
   "execution_count": 34,
   "outputs": [
    {
     "data": {
      "text/plain": "6.105488300323486"
     },
     "execution_count": 34,
     "metadata": {},
     "output_type": "execute_result"
    },
    {
     "name": "stdout",
     "output_type": "stream",
     "text": [
      "time: 825 ms (started: 2022-11-26 21:57:43 -06:00)\n"
     ]
    }
   ],
   "source": [
    "predicted_value = endpoint.predict(instance).predictions[0]['value']\n",
    "predicted_value"
   ],
   "metadata": {
    "collapsed": false
   }
  },
  {
   "cell_type": "markdown",
   "source": [
    "## 3. Explaination\n",
    "### 3.1.1"
   ],
   "metadata": {
    "collapsed": false
   }
  },
  {
   "cell_type": "code",
   "execution_count": 35,
   "outputs": [
    {
     "name": "stdout",
     "output_type": "stream",
     "text": [
      "time: 2.09 s (started: 2022-11-26 21:57:44 -06:00)\n"
     ]
    }
   ],
   "source": [
    "explain=endpoint.explain(instance)"
   ],
   "metadata": {
    "collapsed": false
   }
  },
  {
   "cell_type": "code",
   "execution_count": 36,
   "outputs": [
    {
     "name": "stdout",
     "output_type": "stream",
     "text": [
      "time: 410 µs (started: 2022-11-26 21:57:46 -06:00)\n"
     ]
    }
   ],
   "source": [
    "FEATURE_COLUMNS = [\n",
    "    'is_male',\n",
    "    'mother_age',\n",
    "    'plurality',\n",
    "    'gestation_weeks',\n",
    "    'cigarette_use',\n",
    "    'alcohol_use'\n",
    "]"
   ],
   "metadata": {
    "collapsed": false
   }
  },
  {
   "cell_type": "code",
   "execution_count": 37,
   "outputs": [
    {
     "name": "stdout",
     "output_type": "stream",
     "text": [
      "time: 1.13 ms (started: 2022-11-26 21:57:46 -06:00)\n"
     ]
    }
   ],
   "source": [
    "def get_feature_attributions(\n",
    "        prediction_expl, instance_index, feature_columns=FEATURE_COLUMNS):\n",
    "    \"\"\"Returns the feature attributions with the baseline for a prediction example\"\"\"\n",
    "\n",
    "    rows = []\n",
    "    attribution = prediction_expl.explanations[instance_index].attributions[0]\n",
    "    baseline_score = attribution.baseline_output_value\n",
    "    total_att_val = baseline_score\n",
    "    for key in feature_columns:\n",
    "        feature_val = instance[instance_index][key]\n",
    "        att_val = attribution.feature_attributions[key]\n",
    "        total_att_val += att_val\n",
    "        rows.append([key,feature_val,att_val])\n",
    "\n",
    "    feature_attributions_rows = sorted(rows, key=lambda row: row[2], reverse=True)\n",
    "    feature_attributions_rows.insert(0,[\"Baseline_Score\", \"--\", baseline_score])\n",
    "    feature_attributions_rows.append([\"Final_Prediction\", \"--\", total_att_val])\n",
    "\n",
    "    return feature_attributions_rows"
   ],
   "metadata": {
    "collapsed": false
   }
  },
  {
   "cell_type": "code",
   "execution_count": 38,
   "outputs": [
    {
     "name": "stdout",
     "output_type": "stream",
     "text": [
      "time: 674 µs (started: 2022-11-26 21:57:46 -06:00)\n"
     ]
    }
   ],
   "source": [
    "feature_attributions_rows = get_feature_attributions(explain, 0)"
   ],
   "metadata": {
    "collapsed": false
   }
  },
  {
   "cell_type": "code",
   "execution_count": 39,
   "outputs": [
    {
     "name": "stdout",
     "output_type": "stream",
     "text": [
      "time: 1.03 ms (started: 2022-11-26 21:57:46 -06:00)\n"
     ]
    }
   ],
   "source": [
    "def generate_dataframe():\n",
    "    feature_list=[]\n",
    "    feature_values=[]\n",
    "    feature_contributions=[]\n",
    "    feature_attributions_rows = get_feature_attributions(explain, 0)\n",
    "\n",
    "    for i in range(len(feature_attributions_rows)):\n",
    "        feature=feature_attributions_rows[i][0]\n",
    "        feature_list.append(feature)\n",
    "\n",
    "    for i in range(len(feature_attributions_rows)):\n",
    "        feature=feature_attributions_rows[i][1]\n",
    "        feature_values.append(feature)\n",
    "\n",
    "    for i in range(len(feature_attributions_rows)):\n",
    "        feature=feature_attributions_rows[i][2]\n",
    "        feature_contributions.append(feature)\n",
    "\n",
    "    zipped = list(zip(feature_list, feature_values, feature_contributions))\n",
    "    df = pd.DataFrame(zipped, columns=['Feature', 'Value', 'Contribution'])\n",
    "\n",
    "    return df, feature_list, feature_values,feature_contributions\n"
   ],
   "metadata": {
    "collapsed": false
   }
  },
  {
   "cell_type": "code",
   "execution_count": 40,
   "outputs": [
    {
     "name": "stdout",
     "output_type": "stream",
     "text": [
      "time: 1.31 ms (started: 2022-11-26 21:57:46 -06:00)\n"
     ]
    }
   ],
   "source": [
    "df, feature_list, feature_values,feature_contributions=generate_dataframe()"
   ],
   "metadata": {
    "collapsed": false
   }
  },
  {
   "cell_type": "code",
   "execution_count": 41,
   "outputs": [
    {
     "data": {
      "text/plain": "            Feature      Value  Contribution\n0    Baseline_Score         --      7.805862\n1           is_male       true      0.000000\n2         plurality  Single(1)      0.000000\n3       alcohol_use      false      0.000000\n4        mother_age       45.0     -0.029131\n5     cigarette_use       true     -0.236360\n6   gestation_weeks       35.0     -1.434883\n7  Final_Prediction         --      6.105488",
      "text/html": "<div>\n<style scoped>\n    .dataframe tbody tr th:only-of-type {\n        vertical-align: middle;\n    }\n\n    .dataframe tbody tr th {\n        vertical-align: top;\n    }\n\n    .dataframe thead th {\n        text-align: right;\n    }\n</style>\n<table border=\"1\" class=\"dataframe\">\n  <thead>\n    <tr style=\"text-align: right;\">\n      <th></th>\n      <th>Feature</th>\n      <th>Value</th>\n      <th>Contribution</th>\n    </tr>\n  </thead>\n  <tbody>\n    <tr>\n      <th>0</th>\n      <td>Baseline_Score</td>\n      <td>--</td>\n      <td>7.805862</td>\n    </tr>\n    <tr>\n      <th>1</th>\n      <td>is_male</td>\n      <td>true</td>\n      <td>0.000000</td>\n    </tr>\n    <tr>\n      <th>2</th>\n      <td>plurality</td>\n      <td>Single(1)</td>\n      <td>0.000000</td>\n    </tr>\n    <tr>\n      <th>3</th>\n      <td>alcohol_use</td>\n      <td>false</td>\n      <td>0.000000</td>\n    </tr>\n    <tr>\n      <th>4</th>\n      <td>mother_age</td>\n      <td>45.0</td>\n      <td>-0.029131</td>\n    </tr>\n    <tr>\n      <th>5</th>\n      <td>cigarette_use</td>\n      <td>true</td>\n      <td>-0.236360</td>\n    </tr>\n    <tr>\n      <th>6</th>\n      <td>gestation_weeks</td>\n      <td>35.0</td>\n      <td>-1.434883</td>\n    </tr>\n    <tr>\n      <th>7</th>\n      <td>Final_Prediction</td>\n      <td>--</td>\n      <td>6.105488</td>\n    </tr>\n  </tbody>\n</table>\n</div>"
     },
     "execution_count": 41,
     "metadata": {},
     "output_type": "execute_result"
    },
    {
     "name": "stdout",
     "output_type": "stream",
     "text": [
      "time: 6.04 ms (started: 2022-11-26 21:57:46 -06:00)\n"
     ]
    }
   ],
   "source": [
    "df"
   ],
   "metadata": {
    "collapsed": false
   }
  },
  {
   "cell_type": "code",
   "execution_count": 41,
   "outputs": [
    {
     "name": "stdout",
     "output_type": "stream",
     "text": [
      "time: 11.7 ms (started: 2022-11-26 21:57:46 -06:00)\n"
     ]
    }
   ],
   "source": [],
   "metadata": {
    "collapsed": false
   }
  },
  {
   "cell_type": "code",
   "execution_count": 42,
   "outputs": [
    {
     "name": "stdout",
     "output_type": "stream",
     "text": [
      "time: 582 ms (started: 2022-11-26 21:57:46 -06:00)\n"
     ]
    }
   ],
   "source": [
    "import matplotlib.pyplot as plt\n",
    "import seaborn as sns"
   ],
   "metadata": {
    "collapsed": false
   }
  },
  {
   "cell_type": "code",
   "execution_count": 43,
   "outputs": [
    {
     "data": {
      "text/plain": "<AxesSubplot: xlabel='Contribution', ylabel='Feature'>"
     },
     "execution_count": 43,
     "metadata": {},
     "output_type": "execute_result"
    },
    {
     "data": {
      "text/plain": "<Figure size 1000x400 with 1 Axes>",
      "image/png": "[encoded data removed]"
     },
     "metadata": {},
     "output_type": "display_data"
    },
    {
     "name": "stdout",
     "output_type": "stream",
     "text": [
      "time: 254 ms (started: 2022-11-26 21:57:47 -06:00)\n"
     ]
    }
   ],
   "source": [
    "fig = plt.figure(figsize=(10, 4))\n",
    "sns.barplot(x = \"Contribution\", y = \"Feature\", data = df)\n",
    "#st.pyplot(fig)"
   ],
   "metadata": {
    "collapsed": false
   }
  },
  {
   "cell_type": "code",
   "execution_count": 44,
   "outputs": [
    {
     "data": {
      "text/plain": "            Feature      Value  Contribution\n0    Baseline_Score         --      7.805862\n1           is_male       true      0.000000\n2         plurality  Single(1)      0.000000\n3       alcohol_use      false      0.000000\n4        mother_age       45.0     -0.029131\n5     cigarette_use       true     -0.236360\n6   gestation_weeks       35.0     -1.434883\n7  Final_Prediction         --      6.105488",
      "text/html": "<div>\n<style scoped>\n    .dataframe tbody tr th:only-of-type {\n        vertical-align: middle;\n    }\n\n    .dataframe tbody tr th {\n        vertical-align: top;\n    }\n\n    .dataframe thead th {\n        text-align: right;\n    }\n</style>\n<table border=\"1\" class=\"dataframe\">\n  <thead>\n    <tr style=\"text-align: right;\">\n      <th></th>\n      <th>Feature</th>\n      <th>Value</th>\n      <th>Contribution</th>\n    </tr>\n  </thead>\n  <tbody>\n    <tr>\n      <th>0</th>\n      <td>Baseline_Score</td>\n      <td>--</td>\n      <td>7.805862</td>\n    </tr>\n    <tr>\n      <th>1</th>\n      <td>is_male</td>\n      <td>true</td>\n      <td>0.000000</td>\n    </tr>\n    <tr>\n      <th>2</th>\n      <td>plurality</td>\n      <td>Single(1)</td>\n      <td>0.000000</td>\n    </tr>\n    <tr>\n      <th>3</th>\n      <td>alcohol_use</td>\n      <td>false</td>\n      <td>0.000000</td>\n    </tr>\n    <tr>\n      <th>4</th>\n      <td>mother_age</td>\n      <td>45.0</td>\n      <td>-0.029131</td>\n    </tr>\n    <tr>\n      <th>5</th>\n      <td>cigarette_use</td>\n      <td>true</td>\n      <td>-0.236360</td>\n    </tr>\n    <tr>\n      <th>6</th>\n      <td>gestation_weeks</td>\n      <td>35.0</td>\n      <td>-1.434883</td>\n    </tr>\n    <tr>\n      <th>7</th>\n      <td>Final_Prediction</td>\n      <td>--</td>\n      <td>6.105488</td>\n    </tr>\n  </tbody>\n</table>\n</div>"
     },
     "execution_count": 44,
     "metadata": {},
     "output_type": "execute_result"
    },
    {
     "name": "stdout",
     "output_type": "stream",
     "text": [
      "time: 5.9 ms (started: 2022-11-26 21:57:47 -06:00)\n"
     ]
    }
   ],
   "source": [
    "df"
   ],
   "metadata": {
    "collapsed": false
   }
  },
  {
   "cell_type": "code",
   "execution_count": 45,
   "outputs": [
    {
     "data": {
      "text/plain": "            Feature Value  Contribution\n0    Baseline_Score    --      7.805862\n7  Final_Prediction    --      6.105488",
      "text/html": "<div>\n<style scoped>\n    .dataframe tbody tr th:only-of-type {\n        vertical-align: middle;\n    }\n\n    .dataframe tbody tr th {\n        vertical-align: top;\n    }\n\n    .dataframe thead th {\n        text-align: right;\n    }\n</style>\n<table border=\"1\" class=\"dataframe\">\n  <thead>\n    <tr style=\"text-align: right;\">\n      <th></th>\n      <th>Feature</th>\n      <th>Value</th>\n      <th>Contribution</th>\n    </tr>\n  </thead>\n  <tbody>\n    <tr>\n      <th>0</th>\n      <td>Baseline_Score</td>\n      <td>--</td>\n      <td>7.805862</td>\n    </tr>\n    <tr>\n      <th>7</th>\n      <td>Final_Prediction</td>\n      <td>--</td>\n      <td>6.105488</td>\n    </tr>\n  </tbody>\n</table>\n</div>"
     },
     "execution_count": 45,
     "metadata": {},
     "output_type": "execute_result"
    },
    {
     "name": "stdout",
     "output_type": "stream",
     "text": [
      "time: 9.05 ms (started: 2022-11-26 21:57:47 -06:00)\n"
     ]
    }
   ],
   "source": [
    "df2=df.query(\"Feature in ('Baseline_Score','Final_Prediction')\")\n",
    "df2"
   ],
   "metadata": {
    "collapsed": false
   }
  },
  {
   "cell_type": "code",
   "execution_count": 46,
   "outputs": [
    {
     "data": {
      "text/plain": "            Feature      Value  Contribution\n0    Baseline_Score         --      7.805862\n1           is_male       true      0.000000\n2         plurality  Single(1)      0.000000\n3       alcohol_use      false      0.000000\n4        mother_age       45.0     -0.029131\n5     cigarette_use       true     -0.236360\n6   gestation_weeks       35.0     -1.434883\n7  Final_Prediction         --      6.105488",
      "text/html": "<div>\n<style scoped>\n    .dataframe tbody tr th:only-of-type {\n        vertical-align: middle;\n    }\n\n    .dataframe tbody tr th {\n        vertical-align: top;\n    }\n\n    .dataframe thead th {\n        text-align: right;\n    }\n</style>\n<table border=\"1\" class=\"dataframe\">\n  <thead>\n    <tr style=\"text-align: right;\">\n      <th></th>\n      <th>Feature</th>\n      <th>Value</th>\n      <th>Contribution</th>\n    </tr>\n  </thead>\n  <tbody>\n    <tr>\n      <th>0</th>\n      <td>Baseline_Score</td>\n      <td>--</td>\n      <td>7.805862</td>\n    </tr>\n    <tr>\n      <th>1</th>\n      <td>is_male</td>\n      <td>true</td>\n      <td>0.000000</td>\n    </tr>\n    <tr>\n      <th>2</th>\n      <td>plurality</td>\n      <td>Single(1)</td>\n      <td>0.000000</td>\n    </tr>\n    <tr>\n      <th>3</th>\n      <td>alcohol_use</td>\n      <td>false</td>\n      <td>0.000000</td>\n    </tr>\n    <tr>\n      <th>4</th>\n      <td>mother_age</td>\n      <td>45.0</td>\n      <td>-0.029131</td>\n    </tr>\n    <tr>\n      <th>5</th>\n      <td>cigarette_use</td>\n      <td>true</td>\n      <td>-0.236360</td>\n    </tr>\n    <tr>\n      <th>6</th>\n      <td>gestation_weeks</td>\n      <td>35.0</td>\n      <td>-1.434883</td>\n    </tr>\n    <tr>\n      <th>7</th>\n      <td>Final_Prediction</td>\n      <td>--</td>\n      <td>6.105488</td>\n    </tr>\n  </tbody>\n</table>\n</div>"
     },
     "execution_count": 46,
     "metadata": {},
     "output_type": "execute_result"
    },
    {
     "name": "stdout",
     "output_type": "stream",
     "text": [
      "time: 6.22 ms (started: 2022-11-26 21:58:14 -06:00)\n"
     ]
    }
   ],
   "source": [
    "df"
   ],
   "metadata": {
    "collapsed": false
   }
  },
  {
   "cell_type": "code",
   "execution_count": 49,
   "outputs": [
    {
     "data": {
      "text/plain": "0.0"
     },
     "execution_count": 49,
     "metadata": {},
     "output_type": "execute_result"
    },
    {
     "name": "stdout",
     "output_type": "stream",
     "text": [
      "time: 2.86 ms (started: 2022-11-26 21:59:23 -06:00)\n"
     ]
    }
   ],
   "source": [
    "df['Contribution'][1]"
   ],
   "metadata": {
    "collapsed": false
   }
  },
  {
   "cell_type": "code",
   "execution_count": 50,
   "outputs": [
    {
     "ename": "KeyError",
     "evalue": "'is_male'",
     "output_type": "error",
     "traceback": [
      "\u001B[0;31m---------------------------------------------------------------------------\u001B[0m",
      "\u001B[0;31mKeyError\u001B[0m                                  Traceback (most recent call last)",
      "Cell \u001B[0;32mIn [50], line 1\u001B[0m\n\u001B[0;32m----> 1\u001B[0m \u001B[43mdf\u001B[49m\u001B[38;5;241;43m.\u001B[39;49m\u001B[43mloc\u001B[49m\u001B[43m[\u001B[49m\u001B[38;5;124;43m'\u001B[39;49m\u001B[38;5;124;43mis_male\u001B[39;49m\u001B[38;5;124;43m'\u001B[39;49m\u001B[43m,\u001B[49m\u001B[43m \u001B[49m\u001B[38;5;124;43m'\u001B[39;49m\u001B[38;5;124;43mContribution\u001B[39;49m\u001B[38;5;124;43m'\u001B[39;49m\u001B[43m]\u001B[49m\n",
      "File \u001B[0;32m~/opt/anaconda3/envs/vertex_streamlit/lib/python3.9/site-packages/pandas/core/indexing.py:1066\u001B[0m, in \u001B[0;36m_LocationIndexer.__getitem__\u001B[0;34m(self, key)\u001B[0m\n\u001B[1;32m   1064\u001B[0m     key \u001B[38;5;241m=\u001B[39m \u001B[38;5;28mtuple\u001B[39m(com\u001B[38;5;241m.\u001B[39mapply_if_callable(x, \u001B[38;5;28mself\u001B[39m\u001B[38;5;241m.\u001B[39mobj) \u001B[38;5;28;01mfor\u001B[39;00m x \u001B[38;5;129;01min\u001B[39;00m key)\n\u001B[1;32m   1065\u001B[0m     \u001B[38;5;28;01mif\u001B[39;00m \u001B[38;5;28mself\u001B[39m\u001B[38;5;241m.\u001B[39m_is_scalar_access(key):\n\u001B[0;32m-> 1066\u001B[0m         \u001B[38;5;28;01mreturn\u001B[39;00m \u001B[38;5;28;43mself\u001B[39;49m\u001B[38;5;241;43m.\u001B[39;49m\u001B[43mobj\u001B[49m\u001B[38;5;241;43m.\u001B[39;49m\u001B[43m_get_value\u001B[49m\u001B[43m(\u001B[49m\u001B[38;5;241;43m*\u001B[39;49m\u001B[43mkey\u001B[49m\u001B[43m,\u001B[49m\u001B[43m \u001B[49m\u001B[43mtakeable\u001B[49m\u001B[38;5;241;43m=\u001B[39;49m\u001B[38;5;28;43mself\u001B[39;49m\u001B[38;5;241;43m.\u001B[39;49m\u001B[43m_takeable\u001B[49m\u001B[43m)\u001B[49m\n\u001B[1;32m   1067\u001B[0m     \u001B[38;5;28;01mreturn\u001B[39;00m \u001B[38;5;28mself\u001B[39m\u001B[38;5;241m.\u001B[39m_getitem_tuple(key)\n\u001B[1;32m   1068\u001B[0m \u001B[38;5;28;01melse\u001B[39;00m:\n\u001B[1;32m   1069\u001B[0m     \u001B[38;5;66;03m# we by definition only have the 0th axis\u001B[39;00m\n",
      "File \u001B[0;32m~/opt/anaconda3/envs/vertex_streamlit/lib/python3.9/site-packages/pandas/core/frame.py:3922\u001B[0m, in \u001B[0;36mDataFrame._get_value\u001B[0;34m(self, index, col, takeable)\u001B[0m\n\u001B[1;32m   3916\u001B[0m engine \u001B[38;5;241m=\u001B[39m \u001B[38;5;28mself\u001B[39m\u001B[38;5;241m.\u001B[39mindex\u001B[38;5;241m.\u001B[39m_engine\n\u001B[1;32m   3918\u001B[0m \u001B[38;5;28;01mif\u001B[39;00m \u001B[38;5;129;01mnot\u001B[39;00m \u001B[38;5;28misinstance\u001B[39m(\u001B[38;5;28mself\u001B[39m\u001B[38;5;241m.\u001B[39mindex, MultiIndex):\n\u001B[1;32m   3919\u001B[0m     \u001B[38;5;66;03m# CategoricalIndex: Trying to use the engine fastpath may give incorrect\u001B[39;00m\n\u001B[1;32m   3920\u001B[0m     \u001B[38;5;66;03m#  results if our categories are integers that dont match our codes\u001B[39;00m\n\u001B[1;32m   3921\u001B[0m     \u001B[38;5;66;03m# IntervalIndex: IntervalTree has no get_loc\u001B[39;00m\n\u001B[0;32m-> 3922\u001B[0m     row \u001B[38;5;241m=\u001B[39m \u001B[38;5;28;43mself\u001B[39;49m\u001B[38;5;241;43m.\u001B[39;49m\u001B[43mindex\u001B[49m\u001B[38;5;241;43m.\u001B[39;49m\u001B[43mget_loc\u001B[49m\u001B[43m(\u001B[49m\u001B[43mindex\u001B[49m\u001B[43m)\u001B[49m\n\u001B[1;32m   3923\u001B[0m     \u001B[38;5;28;01mreturn\u001B[39;00m series\u001B[38;5;241m.\u001B[39m_values[row]\n\u001B[1;32m   3925\u001B[0m \u001B[38;5;66;03m# For MultiIndex going through engine effectively restricts us to\u001B[39;00m\n\u001B[1;32m   3926\u001B[0m \u001B[38;5;66;03m#  same-length tuples; see test_get_set_value_no_partial_indexing\u001B[39;00m\n",
      "File \u001B[0;32m~/opt/anaconda3/envs/vertex_streamlit/lib/python3.9/site-packages/pandas/core/indexes/range.py:395\u001B[0m, in \u001B[0;36mRangeIndex.get_loc\u001B[0;34m(self, key, method, tolerance)\u001B[0m\n\u001B[1;32m    393\u001B[0m             \u001B[38;5;28;01mraise\u001B[39;00m \u001B[38;5;167;01mKeyError\u001B[39;00m(key) \u001B[38;5;28;01mfrom\u001B[39;00m \u001B[38;5;21;01merr\u001B[39;00m\n\u001B[1;32m    394\u001B[0m     \u001B[38;5;28mself\u001B[39m\u001B[38;5;241m.\u001B[39m_check_indexing_error(key)\n\u001B[0;32m--> 395\u001B[0m     \u001B[38;5;28;01mraise\u001B[39;00m \u001B[38;5;167;01mKeyError\u001B[39;00m(key)\n\u001B[1;32m    396\u001B[0m \u001B[38;5;28;01mreturn\u001B[39;00m \u001B[38;5;28msuper\u001B[39m()\u001B[38;5;241m.\u001B[39mget_loc(key, method\u001B[38;5;241m=\u001B[39mmethod, tolerance\u001B[38;5;241m=\u001B[39mtolerance)\n",
      "\u001B[0;31mKeyError\u001B[0m: 'is_male'"
     ]
    },
    {
     "name": "stdout",
     "output_type": "stream",
     "text": [
      "time: 2.13 s (started: 2022-11-26 22:28:54 -06:00)\n"
     ]
    }
   ],
   "source": [
    "df.loc['is_male', 'Contribution']"
   ],
   "metadata": {
    "collapsed": false
   }
  },
  {
   "cell_type": "code",
   "execution_count": 51,
   "outputs": [
    {
     "name": "stdout",
     "output_type": "stream",
     "text": [
      "time: 528 µs (started: 2022-11-26 22:31:13 -06:00)\n"
     ]
    }
   ],
   "source": [
    "df3=df.copy()"
   ],
   "metadata": {
    "collapsed": false
   }
  },
  {
   "cell_type": "code",
   "execution_count": 52,
   "outputs": [
    {
     "data": {
      "text/plain": "            Feature      Value  Contribution\n0    Baseline_Score         --      7.805862\n1           is_male       true      0.000000\n2         plurality  Single(1)      0.000000\n3       alcohol_use      false      0.000000\n4        mother_age       45.0     -0.029131\n5     cigarette_use       true     -0.236360\n6   gestation_weeks       35.0     -1.434883\n7  Final_Prediction         --      6.105488",
      "text/html": "<div>\n<style scoped>\n    .dataframe tbody tr th:only-of-type {\n        vertical-align: middle;\n    }\n\n    .dataframe tbody tr th {\n        vertical-align: top;\n    }\n\n    .dataframe thead th {\n        text-align: right;\n    }\n</style>\n<table border=\"1\" class=\"dataframe\">\n  <thead>\n    <tr style=\"text-align: right;\">\n      <th></th>\n      <th>Feature</th>\n      <th>Value</th>\n      <th>Contribution</th>\n    </tr>\n  </thead>\n  <tbody>\n    <tr>\n      <th>0</th>\n      <td>Baseline_Score</td>\n      <td>--</td>\n      <td>7.805862</td>\n    </tr>\n    <tr>\n      <th>1</th>\n      <td>is_male</td>\n      <td>true</td>\n      <td>0.000000</td>\n    </tr>\n    <tr>\n      <th>2</th>\n      <td>plurality</td>\n      <td>Single(1)</td>\n      <td>0.000000</td>\n    </tr>\n    <tr>\n      <th>3</th>\n      <td>alcohol_use</td>\n      <td>false</td>\n      <td>0.000000</td>\n    </tr>\n    <tr>\n      <th>4</th>\n      <td>mother_age</td>\n      <td>45.0</td>\n      <td>-0.029131</td>\n    </tr>\n    <tr>\n      <th>5</th>\n      <td>cigarette_use</td>\n      <td>true</td>\n      <td>-0.236360</td>\n    </tr>\n    <tr>\n      <th>6</th>\n      <td>gestation_weeks</td>\n      <td>35.0</td>\n      <td>-1.434883</td>\n    </tr>\n    <tr>\n      <th>7</th>\n      <td>Final_Prediction</td>\n      <td>--</td>\n      <td>6.105488</td>\n    </tr>\n  </tbody>\n</table>\n</div>"
     },
     "execution_count": 52,
     "metadata": {},
     "output_type": "execute_result"
    },
    {
     "name": "stdout",
     "output_type": "stream",
     "text": [
      "time: 5.4 ms (started: 2022-11-26 22:31:15 -06:00)\n"
     ]
    }
   ],
   "source": [
    "df3"
   ],
   "metadata": {
    "collapsed": false
   }
  },
  {
   "cell_type": "code",
   "execution_count": 56,
   "outputs": [
    {
     "data": {
      "text/plain": "                      Value  Contribution\nFeature                                  \nBaseline_Score           --      7.805862\nis_male                true      0.000000\nplurality         Single(1)      0.000000\nalcohol_use           false      0.000000\nmother_age             45.0     -0.029131\ncigarette_use          true     -0.236360\ngestation_weeks        35.0     -1.434883\nFinal_Prediction         --      6.105488",
      "text/html": "<div>\n<style scoped>\n    .dataframe tbody tr th:only-of-type {\n        vertical-align: middle;\n    }\n\n    .dataframe tbody tr th {\n        vertical-align: top;\n    }\n\n    .dataframe thead th {\n        text-align: right;\n    }\n</style>\n<table border=\"1\" class=\"dataframe\">\n  <thead>\n    <tr style=\"text-align: right;\">\n      <th></th>\n      <th>Value</th>\n      <th>Contribution</th>\n    </tr>\n    <tr>\n      <th>Feature</th>\n      <th></th>\n      <th></th>\n    </tr>\n  </thead>\n  <tbody>\n    <tr>\n      <th>Baseline_Score</th>\n      <td>--</td>\n      <td>7.805862</td>\n    </tr>\n    <tr>\n      <th>is_male</th>\n      <td>true</td>\n      <td>0.000000</td>\n    </tr>\n    <tr>\n      <th>plurality</th>\n      <td>Single(1)</td>\n      <td>0.000000</td>\n    </tr>\n    <tr>\n      <th>alcohol_use</th>\n      <td>false</td>\n      <td>0.000000</td>\n    </tr>\n    <tr>\n      <th>mother_age</th>\n      <td>45.0</td>\n      <td>-0.029131</td>\n    </tr>\n    <tr>\n      <th>cigarette_use</th>\n      <td>true</td>\n      <td>-0.236360</td>\n    </tr>\n    <tr>\n      <th>gestation_weeks</th>\n      <td>35.0</td>\n      <td>-1.434883</td>\n    </tr>\n    <tr>\n      <th>Final_Prediction</th>\n      <td>--</td>\n      <td>6.105488</td>\n    </tr>\n  </tbody>\n</table>\n</div>"
     },
     "execution_count": 56,
     "metadata": {},
     "output_type": "execute_result"
    },
    {
     "name": "stdout",
     "output_type": "stream",
     "text": [
      "time: 9.66 ms (started: 2022-11-26 22:35:17 -06:00)\n"
     ]
    }
   ],
   "source": [
    "df3=df3.set_index('Feature')\n",
    "df3"
   ],
   "metadata": {
    "collapsed": false
   }
  },
  {
   "cell_type": "code",
   "execution_count": 58,
   "outputs": [
    {
     "data": {
      "text/plain": "-0.0291309654712677"
     },
     "execution_count": 58,
     "metadata": {},
     "output_type": "execute_result"
    },
    {
     "name": "stdout",
     "output_type": "stream",
     "text": [
      "time: 3.05 ms (started: 2022-11-26 22:35:44 -06:00)\n"
     ]
    }
   ],
   "source": [
    "df3.loc['mother_age', 'Contribution']"
   ],
   "metadata": {
    "collapsed": false
   }
  },
  {
   "cell_type": "code",
   "execution_count": null,
   "outputs": [],
   "source": [],
   "metadata": {
    "collapsed": false
   }
  }
 ],
 "metadata": {
  "kernelspec": {
   "display_name": "Python 3",
   "language": "python",
   "name": "python3"
  },
  "language_info": {
   "codemirror_mode": {
    "name": "ipython",
    "version": 2
   },
   "file_extension": ".py",
   "mimetype": "text/x-python",
   "name": "python",
   "nbconvert_exporter": "python",
   "pygments_lexer": "ipython2",
   "version": "2.7.6"
  }
 },
 "nbformat": 4,
 "nbformat_minor": 0
}
