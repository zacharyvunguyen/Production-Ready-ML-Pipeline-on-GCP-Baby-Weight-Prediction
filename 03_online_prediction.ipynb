{
 "cells": [
  {
   "cell_type": "markdown",
   "id": "c60007db-23cc-489a-b324-16311c540685",
   "metadata": {
    "tags": []
   },
   "source": [
    "# 03_online_predictions_explanations\n",
    "\n",
    "This notebook retrieves the Endpoint deployed by the pipeline and use it to query the model for online predictions and explanations, including the following steps:\n",
    " \n",
    "1. Retrieve the Endpoint\n",
    "2. Make Online Predictions with Explanations\n"
   ]
  },
  {
   "cell_type": "markdown",
   "id": "92723fa7-d935-402b-a190-d9c6da1e89ed",
   "metadata": {},
   "source": [
    "---\n",
    "## Setup"
   ]
  },
  {
   "cell_type": "markdown",
   "id": "e9eb6592-2cf9-4970-af4c-bfad2ac19aab",
   "metadata": {},
   "source": [
    "### Import libraries"
   ]
  },
  {
   "cell_type": "code",
   "execution_count": 107,
   "id": "272b7567-40cb-4144-af94-083ccf303424",
   "metadata": {
    "tags": []
   },
   "outputs": [
    {
     "name": "stdout",
     "output_type": "stream",
     "text": [
      "The autotime extension is already loaded. To reload it, use:\n",
      "  %reload_ext autotime\n",
      "time: 2.23 ms (started: 2022-11-26 12:08:59 -06:00)\n"
     ]
    }
   ],
   "source": [
    "#!pip install ipython-autotime\n",
    "%load_ext autotime"
   ]
  },
  {
   "cell_type": "code",
   "execution_count": 108,
   "outputs": [
    {
     "name": "stdout",
     "output_type": "stream",
     "text": [
      "time: 390 µs (started: 2022-11-26 12:08:59 -06:00)\n"
     ]
    }
   ],
   "source": [
    "#!pip install google-cloud-aiplatform\n",
    "#!pip install --upgrade google-cloud-bigquery"
   ],
   "metadata": {
    "collapsed": false
   }
  },
  {
   "cell_type": "code",
   "execution_count": 109,
   "id": "a84b17fe-b978-4f2f-8a3b-b62eaf5157e9",
   "metadata": {},
   "outputs": [
    {
     "name": "stdout",
     "output_type": "stream",
     "text": [
      "time: 928 µs (started: 2022-11-26 12:08:59 -06:00)\n"
     ]
    }
   ],
   "source": [
    "import os\n",
    "from tabulate import tabulate\n",
    "import numpy as np\n",
    "from google.cloud import aiplatform as aip\n",
    "from google.cloud import bigquery"
   ]
  },
  {
   "cell_type": "markdown",
   "id": "aa9fc0f9-ba1c-48a5-83f5-a42052fbe662",
   "metadata": {},
   "source": [
    "### Set configurations and constants"
   ]
  },
  {
   "cell_type": "code",
   "execution_count": 110,
   "id": "4afe13ba-ae85-4922-b74a-a466e51f1f98",
   "metadata": {},
   "outputs": [
    {
     "name": "stdout",
     "output_type": "stream",
     "text": [
      "time: 1.09 ms (started: 2022-11-26 12:08:59 -06:00)\n"
     ]
    }
   ],
   "source": [
    "NOTEBOOK ='Vertex_AI_Streamlit'\n",
    "REGION = \"us-central1\"\n",
    "PROJECT = 'babyweight-prediction'\n",
    "BUCKET = 'b_w_bucket'\n",
    "BQ_DATASET = \"bw_dataset\"\n",
    "APPNAME = \"bw-prediction\"\n",
    "\n",
    "GOOGLE_APPLICATION_CREDENTIALS = 'key/babyweight-prediction-ff79f406c099.json'\n",
    "\n",
    "os.environ[\"REGION\"] = REGION\n",
    "os.environ[\"PROJECT\"] = PROJECT\n",
    "os.environ[\"BUCKET\"] = BUCKET\n",
    "\n",
    "os.environ[\"GOOGLE_APPLICATION_CREDENTIALS\"] = GOOGLE_APPLICATION_CREDENTIALS"
   ]
  },
  {
   "cell_type": "code",
   "execution_count": 111,
   "id": "9922725d-9049-4267-be0d-9ac60fd68577",
   "metadata": {},
   "outputs": [
    {
     "name": "stdout",
     "output_type": "stream",
     "text": [
      "time: 614 µs (started: 2022-11-26 12:08:59 -06:00)\n"
     ]
    }
   ],
   "source": [
    "GCS_BUCKET=f\"gs://{BUCKET}\""
   ]
  },
  {
   "cell_type": "code",
   "execution_count": 112,
   "id": "7d72da82-113f-4ad6-8df1-e881a7181581",
   "metadata": {},
   "outputs": [
    {
     "name": "stdout",
     "output_type": "stream",
     "text": [
      "time: 513 µs (started: 2022-11-26 12:08:59 -06:00)\n"
     ]
    }
   ],
   "source": [
    "SERVICE_ACCOUNT = \"69318036822-compute@developer.gserviceaccount.com\""
   ]
  },
  {
   "cell_type": "markdown",
   "id": "7414d88e-d426-452c-9591-02d8996e7381",
   "metadata": {},
   "source": [
    "---\n",
    "## 1. Retrieve the Endpoint"
   ]
  },
  {
   "cell_type": "code",
   "execution_count": 113,
   "id": "c5fedaaa-cab8-4cf6-a2db-08dcd23e1f9f",
   "metadata": {
    "tags": []
   },
   "outputs": [
    {
     "name": "stdout",
     "output_type": "stream",
     "text": [
      "time: 742 µs (started: 2022-11-26 12:08:59 -06:00)\n"
     ]
    }
   ],
   "source": [
    "aip.init(\n",
    "    project=PROJECT, \n",
    "    location=REGION, \n",
    "    staging_bucket=GCS_BUCKET)"
   ]
  },
  {
   "cell_type": "code",
   "execution_count": 114,
   "outputs": [
    {
     "name": "stdout",
     "output_type": "stream",
     "text": [
      "time: 536 µs (started: 2022-11-26 12:08:59 -06:00)\n"
     ]
    }
   ],
   "source": [
    "#https://us-central1-aiplatform.googleapis.com/v1/projects/69318036822/locations/us-central1/endpoints/4074389870305345536"
   ],
   "metadata": {
    "collapsed": false
   }
  },
  {
   "cell_type": "code",
   "execution_count": 115,
   "id": "a8231d43-359c-4ed0-861d-0af70a03d17e",
   "metadata": {},
   "outputs": [
    {
     "name": "stdout",
     "output_type": "stream",
     "text": [
      "time: 433 µs (started: 2022-11-26 12:08:59 -06:00)\n"
     ]
    }
   ],
   "source": [
    "ENDPOINT_NAME = 'projects/69318036822/locations/us-central1/endpoints/4074389870305345536'"
   ]
  },
  {
   "cell_type": "code",
   "execution_count": 116,
   "outputs": [
    {
     "name": "stdout",
     "output_type": "stream",
     "text": [
      "time: 36.5 ms (started: 2022-11-26 12:08:59 -06:00)\n"
     ]
    }
   ],
   "source": [
    "endpoint = aip.Endpoint(\n",
    "    project=PROJECT,\n",
    "    location=REGION,\n",
    "    endpoint_name=ENDPOINT_NAME\n",
    ")"
   ],
   "metadata": {
    "collapsed": false
   }
  },
  {
   "cell_type": "markdown",
   "id": "b1088df8-ee95-4d15-a256-0308f4d52c07",
   "metadata": {},
   "source": [
    "## 2. Make Online Predictions"
   ]
  },
  {
   "cell_type": "markdown",
   "id": "f14bef97-165f-4a62-8852-b1c7771dec88",
   "metadata": {},
   "source": [
    "### 2.1. One sample"
   ]
  },
  {
   "cell_type": "code",
   "execution_count": 117,
   "id": "a8d3686f-5187-43a0-925c-1dc7750f676c",
   "metadata": {},
   "outputs": [
    {
     "name": "stdout",
     "output_type": "stream",
     "text": [
      "time: 562 µs (started: 2022-11-26 12:08:59 -06:00)\n"
     ]
    }
   ],
   "source": [
    "s= [\n",
    "    {'is_male': 'true',\n",
    "     'mother_age': '25.0',\n",
    "     'plurality': 'Single(1)',\n",
    "     'gestation_weeks': '40.0',\n",
    "     'cigarette_use': 'true',\n",
    "     'alcohol_use': 'false',\n",
    "    },\n",
    "]"
   ]
  },
  {
   "cell_type": "markdown",
   "id": "a51beaef-4d8b-4669-8fb3-4e6906c0d040",
   "metadata": {},
   "source": [
    "#### Get prediction"
   ]
  },
  {
   "cell_type": "code",
   "execution_count": 118,
   "outputs": [
    {
     "data": {
      "text/plain": "Prediction(predictions=[{'value': 7.632030487060547, 'lower_bound': 4.640171051025391, 'upper_bound': 5.133586883544922}], deployed_model_id='3368705715412664320', model_version_id='1', model_resource_name='projects/69318036822/locations/us-central1/models/697490594242494464', explanations=None)"
     },
     "execution_count": 118,
     "metadata": {},
     "output_type": "execute_result"
    },
    {
     "name": "stdout",
     "output_type": "stream",
     "text": [
      "time: 539 ms (started: 2022-11-26 12:08:59 -06:00)\n"
     ]
    }
   ],
   "source": [
    "endpoint.predict(s)"
   ],
   "metadata": {
    "collapsed": false
   }
  },
  {
   "cell_type": "code",
   "execution_count": 119,
   "id": "e38dc817-3933-4aba-a7aa-ff8a6fc61894",
   "metadata": {},
   "outputs": [
    {
     "data": {
      "text/plain": "7.632030487060547"
     },
     "execution_count": 119,
     "metadata": {},
     "output_type": "execute_result"
    },
    {
     "name": "stdout",
     "output_type": "stream",
     "text": [
      "time: 367 ms (started: 2022-11-26 12:08:59 -06:00)\n"
     ]
    }
   ],
   "source": [
    "predicted_value = endpoint.predict(s).predictions[0]['value']\n",
    "predicted_value"
   ]
  },
  {
   "cell_type": "markdown",
   "id": "9dacc64a-bdca-451c-80dd-aed64d9fb738",
   "metadata": {},
   "source": [
    "#### Get explanation"
   ]
  },
  {
   "cell_type": "code",
   "execution_count": 120,
   "id": "215328ef-c803-4ab8-ac76-3bfd4d073c2a",
   "metadata": {
    "tags": []
   },
   "outputs": [
    {
     "name": "stdout",
     "output_type": "stream",
     "text": [
      "time: 931 ms (started: 2022-11-26 12:09:00 -06:00)\n"
     ]
    }
   ],
   "source": [
    "explain=endpoint.explain(s)"
   ]
  },
  {
   "cell_type": "code",
   "execution_count": 121,
   "outputs": [
    {
     "data": {
      "text/plain": "Prediction(predictions=[{'lower_bound': 4.640171051025391, 'value': 7.632030487060547, 'upper_bound': 5.133586883544922}], deployed_model_id='3368705715412664320', model_version_id=None, model_resource_name=None, explanations=[attributions {\n  baseline_output_value: 7.8058624267578125\n  instance_output_value: 7.632030487060547\n  feature_attributions {\n    struct_value {\n      fields {\n        key: \"alcohol_use\"\n        value {\n          number_value: 0.0\n        }\n      }\n      fields {\n        key: \"cigarette_use\"\n        value {\n          number_value: -0.2182244658470154\n        }\n      }\n      fields {\n        key: \"gestation_weeks\"\n        value {\n          number_value: 0.2012025713920593\n        }\n      }\n      fields {\n        key: \"is_male\"\n        value {\n          number_value: 0.0\n        }\n      }\n      fields {\n        key: \"mother_age\"\n        value {\n          number_value: -0.1568100452423096\n        }\n      }\n      fields {\n        key: \"plurality\"\n        value {\n          number_value: 0.0\n        }\n      }\n    }\n  }\n  output_index: -1\n  approximation_error: 0.000995961366158731\n  output_name: \"value\"\n}\n])"
     },
     "execution_count": 121,
     "metadata": {},
     "output_type": "execute_result"
    },
    {
     "name": "stdout",
     "output_type": "stream",
     "text": [
      "time: 9.71 ms (started: 2022-11-26 12:09:01 -06:00)\n"
     ]
    }
   ],
   "source": [
    "explain"
   ],
   "metadata": {
    "collapsed": false
   }
  },
  {
   "cell_type": "code",
   "execution_count": 122,
   "outputs": [
    {
     "data": {
      "text/plain": "7.8058624267578125"
     },
     "execution_count": 122,
     "metadata": {},
     "output_type": "execute_result"
    },
    {
     "name": "stdout",
     "output_type": "stream",
     "text": [
      "time: 4.48 ms (started: 2022-11-26 12:09:01 -06:00)\n"
     ]
    }
   ],
   "source": [
    "baseline_output_value=explain.explanations[0].attributions[0].baseline_output_value\n",
    "baseline_output_value"
   ],
   "metadata": {
    "collapsed": false
   }
  },
  {
   "cell_type": "code",
   "execution_count": 123,
   "outputs": [
    {
     "data": {
      "text/plain": "7.632030487060547"
     },
     "execution_count": 123,
     "metadata": {},
     "output_type": "execute_result"
    },
    {
     "name": "stdout",
     "output_type": "stream",
     "text": [
      "time: 5.33 ms (started: 2022-11-26 12:09:01 -06:00)\n"
     ]
    }
   ],
   "source": [
    "instance_output_value=explain.explanations[0].attributions[0].instance_output_value\n",
    "instance_output_value"
   ],
   "metadata": {
    "collapsed": false
   }
  },
  {
   "cell_type": "code",
   "execution_count": 124,
   "outputs": [
    {
     "data": {
      "text/plain": "[baseline_output_value: 7.8058624267578125\ninstance_output_value: 7.632030487060547\nfeature_attributions {\n  struct_value {\n    fields {\n      key: \"alcohol_use\"\n      value {\n        number_value: 0.0\n      }\n    }\n    fields {\n      key: \"cigarette_use\"\n      value {\n        number_value: -0.2182244658470154\n      }\n    }\n    fields {\n      key: \"gestation_weeks\"\n      value {\n        number_value: 0.2012025713920593\n      }\n    }\n    fields {\n      key: \"is_male\"\n      value {\n        number_value: 0.0\n      }\n    }\n    fields {\n      key: \"mother_age\"\n      value {\n        number_value: -0.1568100452423096\n      }\n    }\n    fields {\n      key: \"plurality\"\n      value {\n        number_value: 0.0\n      }\n    }\n  }\n}\noutput_index: -1\napproximation_error: 0.000995961366158731\noutput_name: \"value\"\n]"
     },
     "execution_count": 124,
     "metadata": {},
     "output_type": "execute_result"
    },
    {
     "name": "stdout",
     "output_type": "stream",
     "text": [
      "time: 9.65 ms (started: 2022-11-26 12:09:01 -06:00)\n"
     ]
    }
   ],
   "source": [
    "explain.explanations[0].attributions"
   ],
   "metadata": {
    "collapsed": false
   }
  },
  {
   "cell_type": "code",
   "execution_count": 125,
   "outputs": [
    {
     "name": "stdout",
     "output_type": "stream",
     "text": [
      "time: 454 µs (started: 2022-11-26 12:09:01 -06:00)\n"
     ]
    }
   ],
   "source": [
    "FEATURE_COLUMNS = [\n",
    "    'plurality',\n",
    "    'mother_age',\n",
    "    'is_male',\n",
    "    'alcohol_use',\n",
    "    'cigarette_use',\n",
    "    'gestation_weeks'\n",
    "]"
   ],
   "metadata": {
    "collapsed": false
   }
  },
  {
   "cell_type": "code",
   "execution_count": 126,
   "outputs": [
    {
     "name": "stdout",
     "output_type": "stream",
     "text": [
      "time: 1.11 ms (started: 2022-11-26 12:09:01 -06:00)\n"
     ]
    }
   ],
   "source": [
    "def get_feature_attributions(\n",
    "    prediction_expl, instance_index, feature_columns=FEATURE_COLUMNS):\n",
    "    \"\"\"Returns the feature attributions with the baseline for a prediction example\"\"\"\n",
    "\n",
    "    rows = []\n",
    "    attribution = prediction_expl.explanations[instance_index].attributions[0]\n",
    "    baseline_score = attribution.baseline_output_value\n",
    "    total_att_val = baseline_score\n",
    "    for key in feature_columns:\n",
    "        feature_val = test_instances[instance_index][key]\n",
    "        att_val = attribution.feature_attributions[key]\n",
    "        total_att_val += att_val\n",
    "        rows.append([key,feature_val,att_val])\n",
    "\n",
    "    feature_attributions_rows = sorted(rows, key=lambda row: row[2], reverse=True)\n",
    "    #feature_attributions_rows.insert(0,[\"Baseline_Score\", \"--\", baseline_score])\n",
    "    #feature_attributions_rows.append([\"Final_Prediction\", \"--\", total_att_val])\n",
    "\n",
    "    return feature_attributions_rows"
   ],
   "metadata": {
    "collapsed": false
   }
  },
  {
   "cell_type": "code",
   "execution_count": 127,
   "outputs": [
    {
     "name": "stdout",
     "output_type": "stream",
     "text": [
      "time: 398 µs (started: 2022-11-26 12:09:01 -06:00)\n"
     ]
    }
   ],
   "source": [
    "test_instances=s"
   ],
   "metadata": {
    "collapsed": false
   }
  },
  {
   "cell_type": "code",
   "execution_count": 128,
   "outputs": [
    {
     "data": {
      "text/plain": "[['gestation_weeks', '40.0', 0.2012025713920593],\n ['plurality', 'Single(1)', 0.0],\n ['is_male', 'true', 0.0],\n ['alcohol_use', 'false', 0.0],\n ['mother_age', '25.0', -0.1568100452423096],\n ['cigarette_use', 'true', -0.2182244658470154]]"
     },
     "execution_count": 128,
     "metadata": {},
     "output_type": "execute_result"
    },
    {
     "name": "stdout",
     "output_type": "stream",
     "text": [
      "time: 4.6 ms (started: 2022-11-26 12:09:01 -06:00)\n"
     ]
    }
   ],
   "source": [
    "feature_attributions_rows = get_feature_attributions(explain, 0)\n",
    "feature_attributions_rows"
   ],
   "metadata": {
    "collapsed": false
   }
  },
  {
   "cell_type": "code",
   "execution_count": 129,
   "outputs": [
    {
     "data": {
      "text/plain": "'true'"
     },
     "execution_count": 129,
     "metadata": {},
     "output_type": "execute_result"
    },
    {
     "name": "stdout",
     "output_type": "stream",
     "text": [
      "time: 3.43 ms (started: 2022-11-26 12:09:01 -06:00)\n"
     ]
    }
   ],
   "source": [
    "feature_attributions_rows[2][1]"
   ],
   "metadata": {
    "collapsed": false
   }
  },
  {
   "cell_type": "code",
   "execution_count": 130,
   "outputs": [
    {
     "name": "stdout",
     "output_type": "stream",
     "text": [
      "time: 494 µs (started: 2022-11-26 12:09:01 -06:00)\n"
     ]
    }
   ],
   "source": [
    "feature_list=[]\n",
    "for i in range(len(feature_attributions_rows)):\n",
    "    feature=feature_attributions_rows[i][0]\n",
    "    feature_list.append(feature)"
   ],
   "metadata": {
    "collapsed": false
   }
  },
  {
   "cell_type": "code",
   "execution_count": 131,
   "outputs": [
    {
     "data": {
      "text/plain": "['gestation_weeks',\n 'plurality',\n 'is_male',\n 'alcohol_use',\n 'mother_age',\n 'cigarette_use']"
     },
     "execution_count": 131,
     "metadata": {},
     "output_type": "execute_result"
    },
    {
     "name": "stdout",
     "output_type": "stream",
     "text": [
      "time: 2.68 ms (started: 2022-11-26 12:09:01 -06:00)\n"
     ]
    }
   ],
   "source": [
    "feature_list"
   ],
   "metadata": {
    "collapsed": false
   }
  },
  {
   "cell_type": "code",
   "execution_count": 132,
   "outputs": [
    {
     "name": "stdout",
     "output_type": "stream",
     "text": [
      "time: 666 µs (started: 2022-11-26 12:09:01 -06:00)\n"
     ]
    }
   ],
   "source": [
    "feature_values=[]\n",
    "for e in range(len(feature_attributions_rows)):\n",
    "    feature=feature_attributions_rows[e][1]\n",
    "    feature_values.append(feature)"
   ],
   "metadata": {
    "collapsed": false
   }
  },
  {
   "cell_type": "code",
   "execution_count": 133,
   "outputs": [
    {
     "data": {
      "text/plain": "['40.0', 'Single(1)', 'true', 'false', '25.0', 'true']"
     },
     "execution_count": 133,
     "metadata": {},
     "output_type": "execute_result"
    },
    {
     "name": "stdout",
     "output_type": "stream",
     "text": [
      "time: 3.24 ms (started: 2022-11-26 12:09:01 -06:00)\n"
     ]
    }
   ],
   "source": [
    "feature_values"
   ],
   "metadata": {
    "collapsed": false
   }
  },
  {
   "cell_type": "code",
   "execution_count": 134,
   "outputs": [
    {
     "name": "stdout",
     "output_type": "stream",
     "text": [
      "time: 523 µs (started: 2022-11-26 12:09:01 -06:00)\n"
     ]
    }
   ],
   "source": [
    "feature_contributions=[]\n",
    "for c in range(len(feature_attributions_rows)):\n",
    "    feature=feature_attributions_rows[c][2]\n",
    "    feature_contributions.append(feature)"
   ],
   "metadata": {
    "collapsed": false
   }
  },
  {
   "cell_type": "code",
   "execution_count": 135,
   "outputs": [
    {
     "data": {
      "text/plain": "[0.2012025713920593, 0.0, 0.0, 0.0, -0.1568100452423096, -0.2182244658470154]"
     },
     "execution_count": 135,
     "metadata": {},
     "output_type": "execute_result"
    },
    {
     "name": "stdout",
     "output_type": "stream",
     "text": [
      "time: 4.63 ms (started: 2022-11-26 12:09:01 -06:00)\n"
     ]
    }
   ],
   "source": [
    "feature_contributions"
   ],
   "metadata": {
    "collapsed": false
   }
  },
  {
   "cell_type": "code",
   "execution_count": 136,
   "outputs": [
    {
     "ename": "ModuleNotFoundError",
     "evalue": "No module named 'plotly'",
     "output_type": "error",
     "traceback": [
      "\u001B[0;31m---------------------------------------------------------------------------\u001B[0m",
      "\u001B[0;31mModuleNotFoundError\u001B[0m                       Traceback (most recent call last)",
      "Cell \u001B[0;32mIn [136], line 1\u001B[0m\n\u001B[0;32m----> 1\u001B[0m \u001B[38;5;28;01mimport\u001B[39;00m \u001B[38;5;21;01mplotly\u001B[39;00m\u001B[38;5;21;01m.\u001B[39;00m\u001B[38;5;21;01mgraph_objects\u001B[39;00m \u001B[38;5;28;01mas\u001B[39;00m \u001B[38;5;21;01mgo\u001B[39;00m\n\u001B[1;32m      3\u001B[0m fig \u001B[38;5;241m=\u001B[39m go\u001B[38;5;241m.\u001B[39mFigure(go\u001B[38;5;241m.\u001B[39mWaterfall(\n\u001B[1;32m      4\u001B[0m     name \u001B[38;5;241m=\u001B[39m \u001B[38;5;124m\"\u001B[39m\u001B[38;5;124m20\u001B[39m\u001B[38;5;124m\"\u001B[39m, orientation \u001B[38;5;241m=\u001B[39m \u001B[38;5;124m\"\u001B[39m\u001B[38;5;124mv\u001B[39m\u001B[38;5;124m\"\u001B[39m,\n\u001B[1;32m      5\u001B[0m     measure \u001B[38;5;241m=\u001B[39m [\u001B[38;5;124m\"\u001B[39m\u001B[38;5;124mrelative\u001B[39m\u001B[38;5;124m\"\u001B[39m, \u001B[38;5;124m\"\u001B[39m\u001B[38;5;124mrelative\u001B[39m\u001B[38;5;124m\"\u001B[39m, \u001B[38;5;124m\"\u001B[39m\u001B[38;5;124mrelative\u001B[39m\u001B[38;5;124m\"\u001B[39m, \u001B[38;5;124m\"\u001B[39m\u001B[38;5;124mrelative\u001B[39m\u001B[38;5;124m\"\u001B[39m, \u001B[38;5;124m\"\u001B[39m\u001B[38;5;124mrelative\u001B[39m\u001B[38;5;124m\"\u001B[39m,\u001B[38;5;124m\"\u001B[39m\u001B[38;5;124mrelative\u001B[39m\u001B[38;5;124m\"\u001B[39m,\u001B[38;5;124m\"\u001B[39m\u001B[38;5;124mrelative\u001B[39m\u001B[38;5;124m\"\u001B[39m, \u001B[38;5;124m\"\u001B[39m\u001B[38;5;124mtotal\u001B[39m\u001B[38;5;124m\"\u001B[39m],\n\u001B[0;32m   (...)\u001B[0m\n\u001B[1;32m     10\u001B[0m     connector \u001B[38;5;241m=\u001B[39m {\u001B[38;5;124m\"\u001B[39m\u001B[38;5;124mline\u001B[39m\u001B[38;5;124m\"\u001B[39m:{\u001B[38;5;124m\"\u001B[39m\u001B[38;5;124mcolor\u001B[39m\u001B[38;5;124m\"\u001B[39m:\u001B[38;5;124m\"\u001B[39m\u001B[38;5;124mrgb(63, 63, 63)\u001B[39m\u001B[38;5;124m\"\u001B[39m}},\n\u001B[1;32m     11\u001B[0m ))\n\u001B[1;32m     13\u001B[0m fig\u001B[38;5;241m.\u001B[39mupdate_layout(\n\u001B[1;32m     14\u001B[0m         title \u001B[38;5;241m=\u001B[39m \u001B[38;5;124m\"\u001B[39m\u001B[38;5;124mFeature Contribution\u001B[39m\u001B[38;5;124m\"\u001B[39m,\n\u001B[1;32m     15\u001B[0m         showlegend \u001B[38;5;241m=\u001B[39m \u001B[38;5;28;01mTrue\u001B[39;00m\n\u001B[1;32m     16\u001B[0m )\n",
      "\u001B[0;31mModuleNotFoundError\u001B[0m: No module named 'plotly'"
     ]
    },
    {
     "name": "stdout",
     "output_type": "stream",
     "text": [
      "time: 32.7 ms (started: 2022-11-26 12:09:01 -06:00)\n"
     ]
    }
   ],
   "source": [
    "import plotly.graph_objects as go\n",
    "\n",
    "fig = go.Figure(go.Waterfall(\n",
    "    name = \"20\", orientation = \"v\",\n",
    "    measure = [\"relative\", \"relative\", \"relative\", \"relative\", \"relative\",\"relative\",\"relative\", \"total\"],\n",
    "    x = feature_list,\n",
    "    textposition = \"outside\",\n",
    "    text=feature_values,\n",
    "    y = feature_contributions,\n",
    "    connector = {\"line\":{\"color\":\"rgb(63, 63, 63)\"}},\n",
    "))\n",
    "\n",
    "fig.update_layout(\n",
    "        title = \"Feature Contribution\",\n",
    "        showlegend = True\n",
    ")\n",
    "\n",
    "fig.show()"
   ],
   "metadata": {
    "collapsed": false
   }
  },
  {
   "cell_type": "code",
   "execution_count": null,
   "outputs": [],
   "source": [
    "import plotly.graph_objects as go\n",
    "\n",
    "fig = go.Figure(go.Waterfall(\n",
    "    name = \"2018\", orientation = \"h\", measure = [\"relative\", \"relative\", \"relative\", \"relative\", \"relative\",\"relative\",\"relative\", \"total\"],\n",
    "    y = feature_list,\n",
    "    x = feature_contributions,\n",
    "    text=feature_values,\n",
    "    textposition = \"outside\",\n",
    "    connector = {\"mode\":\"between\", \"line\":{\"width\":4, \"color\":\"rgb(0, 0, 0)\", \"dash\":\"solid\"}}\n",
    "))\n",
    "\n",
    "fig.update_layout(title = \"Profit and loss statement 2018\")\n"
   ],
   "metadata": {
    "collapsed": false
   }
  },
  {
   "cell_type": "code",
   "execution_count": null,
   "outputs": [],
   "source": [],
   "metadata": {
    "collapsed": false
   }
  },
  {
   "cell_type": "code",
   "execution_count": null,
   "outputs": [],
   "source": [],
   "metadata": {
    "collapsed": false
   }
  },
  {
   "cell_type": "code",
   "execution_count": null,
   "outputs": [],
   "source": [
    "get_all_prediction_explanations_with_graphs(test_instances=s)"
   ],
   "metadata": {
    "collapsed": false
   }
  },
  {
   "cell_type": "code",
   "execution_count": null,
   "outputs": [],
   "source": [],
   "metadata": {
    "collapsed": false
   }
  },
  {
   "cell_type": "code",
   "execution_count": null,
   "outputs": [],
   "source": [],
   "metadata": {
    "collapsed": false
   }
  },
  {
   "cell_type": "code",
   "execution_count": null,
   "outputs": [],
   "source": [
    "explain_dict=explain.predictions[0]"
   ],
   "metadata": {
    "collapsed": false
   }
  },
  {
   "cell_type": "code",
   "execution_count": null,
   "outputs": [],
   "source": [
    "explain_dict"
   ],
   "metadata": {
    "collapsed": false
   }
  },
  {
   "cell_type": "code",
   "execution_count": null,
   "outputs": [],
   "source": [
    "names = list(explain_dict.keys())\n",
    "values = list(explain_dict.values())"
   ],
   "metadata": {
    "collapsed": false
   }
  },
  {
   "cell_type": "code",
   "execution_count": null,
   "outputs": [],
   "source": [
    "names"
   ],
   "metadata": {
    "collapsed": false
   }
  },
  {
   "cell_type": "code",
   "execution_count": null,
   "outputs": [],
   "source": [
    "values"
   ],
   "metadata": {
    "collapsed": false
   }
  },
  {
   "cell_type": "code",
   "execution_count": null,
   "outputs": [],
   "source": [],
   "metadata": {
    "collapsed": false
   }
  },
  {
   "cell_type": "code",
   "execution_count": null,
   "outputs": [],
   "source": [],
   "metadata": {
    "collapsed": false
   }
  },
  {
   "cell_type": "code",
   "execution_count": null,
   "outputs": [],
   "source": [],
   "metadata": {
    "collapsed": false
   }
  },
  {
   "cell_type": "code",
   "execution_count": null,
   "outputs": [],
   "source": [],
   "metadata": {
    "collapsed": false
   }
  },
  {
   "cell_type": "code",
   "execution_count": null,
   "outputs": [],
   "source": [],
   "metadata": {
    "collapsed": false
   }
  },
  {
   "cell_type": "code",
   "execution_count": null,
   "outputs": [],
   "source": [],
   "metadata": {
    "collapsed": false
   }
  },
  {
   "cell_type": "code",
   "execution_count": null,
   "id": "53dd3a64-ea5d-45cc-ad62-9acb4becc73c",
   "metadata": {
    "tags": []
   },
   "outputs": [],
   "source": [
    "baseline=endpoint.explain(s).explanations[0].attributions[0].baseline_output_value\n",
    "baseline"
   ]
  },
  {
   "cell_type": "code",
   "execution_count": null,
   "id": "3e1ff99e-9af0-4b29-bb1e-de66105dcf9d",
   "metadata": {},
   "outputs": [],
   "source": [
    "instance=endpoint.explain(s).explanations[0].attributions[0].instance_output_value\n",
    "instance"
   ]
  },
  {
   "cell_type": "markdown",
   "id": "e371ff92-99d0-4294-9e9e-8cb629f3ac7d",
   "metadata": {},
   "source": [
    "### 2.2. Multiple samples"
   ]
  },
  {
   "cell_type": "code",
   "execution_count": null,
   "id": "cfece730-2058-4a10-833f-6f8eed849ead",
   "metadata": {},
   "outputs": [],
   "source": [
    "#bqclient = bigquery.Client(project=PROJECT)\n",
    "#\n",
    "#BQ_TABLE_ID = \"hospital22.surgery.surgical-duration-prediction22_prepped_20000\"\n",
    "#query = f\"\"\"\n",
    "#SELECT *\n",
    "#FROM `{BQ_TABLE_ID}`\n",
    "#WHERE splits='TEST'\n",
    "#LIMIT 3\n",
    "#\"\"\"\n",
    "#\n",
    "#df_test_3 = bqclient.query(query = query).to_dataframe()\n",
    "#df_test_3.head()"
   ]
  },
  {
   "cell_type": "code",
   "execution_count": null,
   "id": "92c5d49b-374b-447b-81ec-3d9adcca1971",
   "metadata": {},
   "outputs": [],
   "source": [
    "#test_instances = df_test_3.drop(columns=['case_min', 'splits']).astype(str).to_dict(orient='records')\n",
    "#test_instances"
   ]
  },
  {
   "cell_type": "markdown",
   "id": "a3fdb9e5-95ad-459a-be1c-3983a6d01a44",
   "metadata": {},
   "source": [
    "#### Get the predictions"
   ]
  },
  {
   "cell_type": "code",
   "execution_count": null,
   "id": "85cc2f1d-7db2-4bba-8703-7caa457cc1a3",
   "metadata": {},
   "outputs": [],
   "source": [
    "#predicted_values =[]\n",
    "#for i in range(len(test_instances)):\n",
    "#    predicted_values.append(endpoint.predict(test_instances).predictions[i]['value'])\n",
    "#\n",
    "#predicted_values"
   ]
  },
  {
   "cell_type": "code",
   "execution_count": null,
   "id": "2c989a25-a4bf-41ca-83ed-e6caf7ffc47d",
   "metadata": {},
   "outputs": [],
   "source": []
  },
  {
   "cell_type": "code",
   "execution_count": null,
   "id": "88645e46-e552-4cce-a274-0fae80d8f906",
   "metadata": {},
   "outputs": [],
   "source": []
  },
  {
   "cell_type": "code",
   "execution_count": null,
   "id": "192aa276-f49c-4076-b01f-864fccbb507c",
   "metadata": {},
   "outputs": [],
   "source": []
  },
  {
   "cell_type": "code",
   "execution_count": null,
   "id": "34cef9a7-97ec-4a34-8050-65257afa8a73",
   "metadata": {},
   "outputs": [],
   "source": []
  },
  {
   "cell_type": "code",
   "execution_count": null,
   "id": "3eac1b84-7163-497c-a1e1-520e6c50ceab",
   "metadata": {},
   "outputs": [],
   "source": []
  },
  {
   "cell_type": "code",
   "execution_count": null,
   "id": "485795d3-9fdd-4a04-8ad6-f0e4b17961cb",
   "metadata": {},
   "outputs": [],
   "source": []
  },
  {
   "cell_type": "code",
   "execution_count": null,
   "id": "6658a287-d13d-40a8-9d80-ea0b4b4f9220",
   "metadata": {},
   "outputs": [],
   "source": []
  },
  {
   "cell_type": "code",
   "execution_count": null,
   "id": "23de1b8e-4f44-4f45-8092-75b1e8875550",
   "metadata": {},
   "outputs": [],
   "source": []
  },
  {
   "cell_type": "code",
   "execution_count": null,
   "id": "6b14a519-ea38-49fc-a284-414ce38f6f8a",
   "metadata": {},
   "outputs": [],
   "source": []
  },
  {
   "cell_type": "code",
   "execution_count": null,
   "id": "5a916797-4ba0-4be8-b2aa-06bc4722f354",
   "metadata": {},
   "outputs": [],
   "source": []
  },
  {
   "cell_type": "code",
   "execution_count": null,
   "id": "8660ed99-80d5-4f31-9c74-7d29c59cf66a",
   "metadata": {},
   "outputs": [],
   "source": []
  },
  {
   "cell_type": "code",
   "execution_count": null,
   "id": "7f2e743d-403b-4f1d-9715-5ffb2d65ed13",
   "metadata": {},
   "outputs": [],
   "source": []
  },
  {
   "cell_type": "code",
   "execution_count": null,
   "id": "66f908f8-e8ef-41f7-a8ca-6daef44a433c",
   "metadata": {},
   "outputs": [],
   "source": []
  },
  {
   "cell_type": "code",
   "execution_count": null,
   "id": "1f639e02-4918-4a5d-9667-d989c0c11b15",
   "metadata": {},
   "outputs": [],
   "source": []
  },
  {
   "cell_type": "code",
   "execution_count": null,
   "id": "7bef837a-0ddd-41f2-b50e-d01b9a081e5b",
   "metadata": {},
   "outputs": [],
   "source": []
  },
  {
   "cell_type": "code",
   "execution_count": null,
   "id": "bf9a64be-8dca-4178-af1a-4e22e43a3d06",
   "metadata": {},
   "outputs": [],
   "source": []
  },
  {
   "cell_type": "code",
   "execution_count": null,
   "id": "62264030-5497-49ca-ba32-330922adeb43",
   "metadata": {},
   "outputs": [],
   "source": []
  },
  {
   "cell_type": "code",
   "execution_count": null,
   "id": "e91a8505-5730-44e2-849e-f76485bc4a0d",
   "metadata": {},
   "outputs": [],
   "source": [
    "prediction_expl = get_all_prediction_explanations_with_graphs(test_instances)"
   ]
  },
  {
   "cell_type": "markdown",
   "id": "6c1377ae-b7f7-4868-b8d7-77cb3776715e",
   "metadata": {},
   "source": [
    "#### NOTE: The following is another short way to collect the feature atribution values but it does not show the Baseline Score."
   ]
  },
  {
   "cell_type": "code",
   "execution_count": null,
   "id": "652f7a2f-1a82-4a70-9d5a-15917f4d598d",
   "metadata": {},
   "outputs": [],
   "source": [
    "import pandas as pd\n",
    "\n",
    "explanations = endpoint.explain(test_instances)\n",
    "df = pd.DataFrame.from_dict(explanations.explanations[2].attributions[0].feature_attributions, orient='index')\n",
    "df.columns = [\"Attribution value\"]\n",
    "df.sort_values(by='Attribution value').plot(kind='barh')\n",
    "plt.show()"
   ]
  },
  {
   "cell_type": "code",
   "execution_count": null,
   "id": "a0cf4c4a-8b4d-4ba3-9c30-88d479018adf",
   "metadata": {},
   "outputs": [],
   "source": []
  },
  {
   "cell_type": "code",
   "execution_count": null,
   "id": "d54584ca-06df-40ef-a821-0627183abca4",
   "metadata": {},
   "outputs": [],
   "source": []
  },
  {
   "cell_type": "markdown",
   "id": "98135f72-c871-41a5-b369-476020e8a961",
   "metadata": {
    "tags": []
   },
   "source": [
    "## References:\n",
    "\n",
    "- https://github.com/GoogleCloudPlatform/training-data-analyst/blob/master/quests/vertex-ai/vertex-ai-qwikstart/lab_exercise.ipynb"
   ]
  }
 ],
 "metadata": {
  "environment": {
   "kernel": "python3",
   "name": "tf2-gpu.2-8.m100",
   "type": "gcloud",
   "uri": "gcr.io/deeplearning-platform-release/tf2-gpu.2-8:m100"
  },
  "kernelspec": {
   "display_name": "Python 3",
   "language": "python",
   "name": "python3"
  },
  "language_info": {
   "codemirror_mode": {
    "name": "ipython",
    "version": 3
   },
   "file_extension": ".py",
   "mimetype": "text/x-python",
   "name": "python",
   "nbconvert_exporter": "python",
   "pygments_lexer": "ipython3",
   "version": "3.7.12"
  }
 },
 "nbformat": 4,
 "nbformat_minor": 5
}
