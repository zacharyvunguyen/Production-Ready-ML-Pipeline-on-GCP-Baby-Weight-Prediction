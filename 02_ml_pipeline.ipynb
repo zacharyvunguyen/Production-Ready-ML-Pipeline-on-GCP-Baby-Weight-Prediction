{
 "cells": [
  {
   "cell_type": "markdown",
   "id": "c60007db-23cc-489a-b324-16311c540685",
   "metadata": {
    "tags": []
   },
   "source": [
    "# 02_ml_pipeline\n",
    "\n",
    "This notebook covers the following tasks:\n",
    "\n",
    "1. Build the Pipeline\n",
    "2. Compile the Pipeline\n",
    "3. Execute the Pipeline on Vertex AI"
   ]
  },
  {
   "cell_type": "markdown",
   "id": "92723fa7-d935-402b-a190-d9c6da1e89ed",
   "metadata": {},
   "source": [
    "## Setup"
   ]
  },
  {
   "cell_type": "markdown",
   "id": "e9eb6592-2cf9-4970-af4c-bfad2ac19aab",
   "metadata": {
    "tags": []
   },
   "source": [
    "### Import libraries"
   ]
  },
  {
   "cell_type": "code",
   "execution_count": 20,
   "id": "272b7567-40cb-4144-af94-083ccf303424",
   "metadata": {
    "tags": []
   },
   "outputs": [
    {
     "name": "stdout",
     "output_type": "stream",
     "text": [
      "The autotime extension is already loaded. To reload it, use:\n",
      "  %reload_ext autotime\n",
      "time: 737 µs (started: 2022-11-24 01:12:59 +00:00)\n"
     ]
    }
   ],
   "source": [
    "%load_ext autotime"
   ]
  },
  {
   "cell_type": "code",
   "execution_count": 21,
   "id": "788586d3-dfa5-4651-b4fc-ee7da7b763bc",
   "metadata": {},
   "outputs": [
    {
     "name": "stdout",
     "output_type": "stream",
     "text": [
      "time: 793 µs (started: 2022-11-24 01:12:59 +00:00)\n"
     ]
    }
   ],
   "source": [
    "import os\n",
    "import datetime\n",
    "import json\n",
    "import kfp\n",
    "from kfp.v2.dsl import component\n",
    "from kfp.v2 import dsl, compiler\n",
    "from google.cloud import aiplatform as aip\n",
    "from google_cloud_pipeline_components import aiplatform as gcc_aip\n",
    "import gcsfs\n",
    "import importlib"
   ]
  },
  {
   "cell_type": "markdown",
   "id": "aa9fc0f9-ba1c-48a5-83f5-a42052fbe662",
   "metadata": {},
   "source": [
    "### Set configurations and constants"
   ]
  },
  {
   "cell_type": "code",
   "execution_count": 22,
   "id": "4afe13ba-ae85-4922-b74a-a466e51f1f98",
   "metadata": {},
   "outputs": [
    {
     "name": "stdout",
     "output_type": "stream",
     "text": [
      "time: 793 µs (started: 2022-11-24 01:13:00 +00:00)\n"
     ]
    }
   ],
   "source": [
    "NOTEBOOK = '02_ml_pipeline'\n",
    "REGION = \"us-west1\"\n",
    "PROJECT = 'babyweight-prediction'\n",
    "BUCKET = 'b_w_bucket'\n",
    "BQ_DATASET = \"bw_dataset\"\n",
    "APPNAME = \"bw-prediction\"\n",
    "\n",
    "os.environ[\"REGION\"] = REGION\n",
    "os.environ[\"PROJECT\"] = PROJECT\n",
    "os.environ[\"BUCKET\"] = BUCKET"
   ]
  },
  {
   "cell_type": "markdown",
   "id": "612c35d8-b940-442f-950e-4a723b776d1f",
   "metadata": {},
   "source": [
    "### Set service account access for Vertex AI Pipeline"
   ]
  },
  {
   "cell_type": "code",
   "execution_count": 23,
   "id": "420a4215-48ed-425c-8c21-1904482fa17f",
   "metadata": {},
   "outputs": [
    {
     "name": "stdout",
     "output_type": "stream",
     "text": [
      "time: 477 µs (started: 2022-11-24 01:13:02 +00:00)\n"
     ]
    }
   ],
   "source": [
    "SERVICE_ACCOUNT = \"69318036822-compute@developer.gserviceaccount.com\""
   ]
  },
  {
   "cell_type": "code",
   "execution_count": 24,
   "id": "027c67a8-a025-419c-a2af-e7184f8b2be3",
   "metadata": {},
   "outputs": [
    {
     "name": "stdout",
     "output_type": "stream",
     "text": [
      "[core]\n",
      "account = 69318036822-compute@developer.gserviceaccount.com\n",
      "disable_usage_reporting = True\n",
      "project = babyweight-prediction\n",
      "\n",
      "Your active configuration is: [default]\n",
      "time: 886 ms (started: 2022-11-24 01:13:03 +00:00)\n"
     ]
    }
   ],
   "source": [
    "!gcloud config list"
   ]
  },
  {
   "cell_type": "code",
   "execution_count": 25,
   "id": "d037a541-5686-42c7-ae0a-5cc7b3c542dd",
   "metadata": {},
   "outputs": [
    {
     "name": "stdout",
     "output_type": "stream",
     "text": [
      "                  Credentialed Accounts\n",
      "ACTIVE  ACCOUNT\n",
      "*       69318036822-compute@developer.gserviceaccount.com\n",
      "\n",
      "To set the active account, run:\n",
      "    $ gcloud config set account `ACCOUNT`\n",
      "\n",
      "time: 891 ms (started: 2022-11-24 01:13:04 +00:00)\n"
     ]
    }
   ],
   "source": [
    "!gcloud auth list"
   ]
  },
  {
   "cell_type": "markdown",
   "id": "ee4520c1-a5d9-47ee-bbe9-322914cc072b",
   "metadata": {},
   "source": [
    "### Initialize the Vertex AI SDK & Tensorboard Instance"
   ]
  },
  {
   "cell_type": "code",
   "execution_count": 26,
   "id": "1d3dd206-1544-4b61-b861-73c60bebb389",
   "metadata": {},
   "outputs": [
    {
     "name": "stdout",
     "output_type": "stream",
     "text": [
      "time: 625 µs (started: 2022-11-24 01:13:06 +00:00)\n"
     ]
    }
   ],
   "source": [
    "aip.init(project=PROJECT, location=REGION, staging_bucket=BUCKET)"
   ]
  },
  {
   "cell_type": "code",
   "execution_count": 27,
   "id": "5d1b2104-ebcc-491f-ac0b-ad1950e7ada2",
   "metadata": {},
   "outputs": [
    {
     "name": "stdout",
     "output_type": "stream",
     "text": [
      "time: 381 µs (started: 2022-11-24 01:13:06 +00:00)\n"
     ]
    }
   ],
   "source": [
    "## Create a Tensorboard instance\n",
    "#tb = aip.Tensorboard.create(display_name=f\"{APPNAME}_{NOTEBOOK}\", description=NOTEBOOK)\n",
    "#tb.resource_name"
   ]
  },
  {
   "cell_type": "markdown",
   "id": "a84a5017-c035-4663-8a9f-934871516195",
   "metadata": {},
   "source": [
    "## 1. Construct the Pipeline"
   ]
  },
  {
   "cell_type": "markdown",
   "id": "9dadb3c2-9bac-41db-b0e6-fd83080ed413",
   "metadata": {},
   "source": [
    "### 1.1. Define pipeline constants"
   ]
  },
  {
   "cell_type": "code",
   "execution_count": 28,
   "id": "ee5c3095-51e3-46b1-9cd2-e5d1549c8c3d",
   "metadata": {},
   "outputs": [
    {
     "name": "stdout",
     "output_type": "stream",
     "text": [
      "time: 1.64 ms (started: 2022-11-24 01:13:08 +00:00)\n"
     ]
    }
   ],
   "source": [
    "#TIMESTAMP = datetime.datetime.now().strftime('%Y%m%d%H%M%S')\n",
    "PIPELINE_URI = f\"gs://{BUCKET}/{APPNAME}\"\n",
    "\n",
    "#Data: extract_source_data\n",
    "SOURCE_BQ_TABLE_ID = \"bigquery-public-data.samples.natality\"\n",
    "YEAR = 2003\n",
    "EXTRACTED_BQ_TABLE_ID = f\"{PROJECT}.{BQ_DATASET}.{APPNAME}_extracted_{YEAR}\"\n",
    "\n",
    "#Data: prepped_table_creating_task\n",
    "LIMIT = 20000\n",
    "PREPPED_BQ_TABLE_ID = f\"{PROJECT}.{BQ_DATASET}.{APPNAME}_extracted_{YEAR}_limit_{LIMIT}\" \n",
    "VERTEX_DATASET_DISPLAY_NAME = f\"{APPNAME}_extracted_{YEAR}_limit_{LIMIT}_dataset\"\n",
    "\n",
    "## data\n",
    "#SOURCE_BQ_TABLE_ID = \"bigquery-public-data.samples.natality\"\n",
    "#LIMIT = 20000\n",
    "#PREPPED_BQ_TABLE_ID = f\"{PROJECT}.{BQ_DATASET}.{APPNAME}_prepped_{LIMIT}\"\n",
    "#VERTEX_DATASET_DISPLAY_NAME = f\"{APPNAME}_prepped_{LIMIT}_dataset\"\n",
    "#\n",
    "## bqml\n",
    "#BQML_MODEL_NAME = \"bqml_surgical_duration_new\"\n",
    "##BQML_MODEL_ID = f\"{PROJECT}.{BQ_DATASET}.{BQML_MODEL_NAME}\"\n",
    "#BQML_MODEL_VERSION_ALIASES = BQML_MODEL_NAME\n",
    "#VAR_TARGET = \"case_min\"\n",
    "#\n",
    "##automl\n",
    "#AUTOML_MODEL_NAME = \"automl_surgical_duration\"\n",
    "#COLUMN_SPECS = {\n",
    "#    \"normalized_surgeon_specialty_name\": \"categorical\",\n",
    "#    \"primary_procedure_code\": \"categorical\",\n",
    "#    \"diagnosis_1\": \"categorical\",\n",
    "#    \"num_proc_codes\": \"numeric\",\n",
    "#    \"hosp_health_ministry\": \"categorical\",\n",
    "#    \"patient_type_group\": \"categorical\",\n",
    "#    \"num_diag_codes\": \"numeric\",\n",
    "#    \"patient_gender\": \"categorical\",\n",
    "#    \"patient_age_yrs_group\": \"categorical\",\n",
    "#}\n",
    "#\n",
    "##model validation\n",
    "#REFERENCE_METRIC_NAME = \"mae\"\n",
    "#THRESHOLDS_DICT = {\"mae\": 50.0}\n",
    "#\n",
    "##deployment\n",
    "#ENDPOINT_DISPLAY_NAME = f\"{APPNAME}_endpoint\"\n",
    "#DEPLOY_IMAGE=\"us-docker.pkg.dev/vertex-ai/prediction/tf2-cpu.2-7:latest\"\n",
    "#DEPLOY_MACHINE_TYPE = \"n1-highmem-4\"\n",
    "##DEPLOY_MACHINE_TYPE = \"n1-standard-1\"\n",
    "#DEPLOY_MIN_REPLICA_COUNT = 1\n",
    "#DEPLOY_MAX_REPLICA_COUNT = 1\n",
    "\n",
    "#EXPLANATION_PARAMATERS = {\"sampledShapleyAttribution\": {\"pathCount\": 10}}\n",
    "#EXPLANATION_METADATA_JSON_PATH = f\"{CUSTOM_TRAININGS_URI[5:]}/explanation_metadata.json\"\n"
   ]
  },
  {
   "cell_type": "markdown",
   "id": "ad8434a7-9261-4424-a66c-4249ea72236e",
   "metadata": {},
   "source": [
    "### 1.3. BQML queries"
   ]
  },
  {
   "cell_type": "code",
   "execution_count": 29,
   "id": "d3d20722-d3b8-4510-bc03-1b82ee407aab",
   "metadata": {},
   "outputs": [
    {
     "data": {
      "text/plain": [
       "<module 'src.pipeline.data_comp' from '/home/jupyter/babyweight-vertex-ai/src/pipeline/data_comp.py'>"
      ]
     },
     "execution_count": 29,
     "metadata": {},
     "output_type": "execute_result"
    },
    {
     "name": "stdout",
     "output_type": "stream",
     "text": [
      "time: 13.6 ms (started: 2022-11-24 01:13:10 +00:00)\n"
     ]
    }
   ],
   "source": [
    "from src.pipeline import data_comp\n",
    "#from src.pipeline import bqml_comp\n",
    "#from src.pipeline import automl_comp\n",
    "#from src.pipeline import model_validation_comp\n",
    "#from src.pipeline import serving_validation_comp\n",
    "#\n",
    "importlib.reload(data_comp)\n",
    "#importlib.reload(bqml_comp)\n",
    "#importlib.reload(automl_comp)\n",
    "#importlib.reload(model_validation_comp)\n",
    "#importlib.reload(serving_validation_comp)"
   ]
  },
  {
   "cell_type": "code",
   "execution_count": 30,
   "id": "b980cdbd-02ba-433a-9774-dbc0b85490bd",
   "metadata": {},
   "outputs": [
    {
     "name": "stdout",
     "output_type": "stream",
     "text": [
      "time: 449 µs (started: 2022-11-24 01:13:10 +00:00)\n"
     ]
    }
   ],
   "source": [
    "#QUERY_BUILDING_BQML_MODEL = bqml_comp.create_query_build_bqml_model(\n",
    "#    project=PROJECT,\n",
    "#    bq_dataset=BQ_DATASET,\n",
    "#    bq_model_name=BQML_MODEL_NAME,\n",
    "#    bq_version_aliases=BQML_MODEL_VERSION_ALIASES,\n",
    "#    var_target=VAR_TARGET,\n",
    "#    bq_train_table_id=PREPPED_BQ_TABLE_ID\n",
    "#)\n",
    "#print(\"QUERY_BUILDING_BQML_MODEL:\", QUERY_BUILDING_BQML_MODEL)"
   ]
  },
  {
   "cell_type": "markdown",
   "id": "90cb9a89-7419-48c2-9489-6393ff84a877",
   "metadata": {},
   "source": [
    "### 1.4. Define the pipeline"
   ]
  },
  {
   "cell_type": "code",
   "execution_count": 31,
   "id": "54438d98-0dd5-41ab-b83b-65fe9a5d6d70",
   "metadata": {},
   "outputs": [
    {
     "name": "stdout",
     "output_type": "stream",
     "text": [
      "time: 3.86 ms (started: 2022-11-24 01:13:12 +00:00)\n"
     ]
    }
   ],
   "source": [
    "@dsl.pipeline(name = APPNAME, pipeline_root = PIPELINE_URI)\n",
    "def vertex_ai_pipeline(\n",
    "    service_account: str=SERVICE_ACCOUNT,\n",
    "    project: str=PROJECT,\n",
    "    region: str=REGION,\n",
    "):\n",
    "    from google_cloud_pipeline_components import aiplatform as gcpc_aip\n",
    "    from google_cloud_pipeline_components.v1.bigquery import BigqueryCreateModelJobOp\n",
    "    from google_cloud_pipeline_components.v1.bigquery import BigqueryEvaluateModelJobOp\n",
    "    \n",
    "    ##################################\n",
    "    #extract data from original natality dataset\n",
    "    extracted_source_data_task = data_comp.extract_source_data(\n",
    "        project=project,\n",
    "        region=region,\n",
    "        year=YEAR,\n",
    "        in_bq_table_id=SOURCE_BQ_TABLE_ID, \n",
    "        out_bq_table_id=EXTRACTED_BQ_TABLE_ID,  \n",
    "    ).set_display_name('create_extracted_table') \n",
    "    \n",
    "    ##################################\n",
    "    \n",
    "    prepped_table_creating_task = data_comp.preprocess_data(\n",
    "        project=project,\n",
    "        region=region,\n",
    "        limit=LIMIT,\n",
    "        in_bq_table_id=EXTRACTED_BQ_TABLE_ID, \n",
    "        out_bq_table_id=PREPPED_BQ_TABLE_ID,  \n",
    "    ).set_display_name('create_prepped_table').after(extracted_source_data_task)\n",
    "    \n",
    "    \n",
    "    vertex_dataset_creating_task = gcc_aip.TabularDatasetCreateOp(\n",
    "        project=project,\n",
    "        display_name=VERTEX_DATASET_DISPLAY_NAME,\n",
    "        bq_source=prepped_table_creating_task.outputs[\"out_bq_table_uri\"],\n",
    "    ).set_display_name('create_vertex_dataset')    \n",
    "\n",
    "    ##################################\n",
    "    \n",
    "    #bqml_creating_task = BigqueryCreateModelJobOp(\n",
    "    #    project=project, \n",
    "    #    #location=\"US\",\n",
    "    #    location=\"us-central1\",\n",
    "    #    query=QUERY_BUILDING_BQML_MODEL,\n",
    "    #).set_display_name('create_bqml_model').after(prepped_table_creating_task)\n",
    "    #\n",
    "    #bqml_evaluating_task = BigqueryEvaluateModelJobOp(\n",
    "    #    project=project, \n",
    "    #    #location=\"US\",\n",
    "    #    location=\"us-central1\",\n",
    "    #    model=bqml_creating_task.outputs[\"model\"]\n",
    "    #).set_display_name('evaluate_bqml_model')\n",
    "    #\n",
    "    #bqml_evaluation_metrics_collecting_task = bqml_comp.collect_eval_metrics_bqml(\n",
    "    #    eval_metrics_artifact=bqml_evaluating_task.outputs[\"evaluation_metrics\"]\n",
    "    #)\n",
    "\n",
    "    ###################################\n",
    "    \n",
    "    #automl_creating_task = gcc_aip.AutoMLTabularTrainingJobRunOp(\n",
    "    #    project=project,\n",
    "    #    display_name=f\"{AUTOML_MODEL_NAME}_TrainingJob\",\n",
    "    #    optimization_prediction_type=\"regression\",\n",
    "    #    optimization_objective=\"minimize-rmse\",\n",
    "    #    budget_milli_node_hours=1000,\n",
    "    #    model_display_name=AUTOML_MODEL_NAME,\n",
    "    #    dataset=vertex_dataset_creating_task.outputs[\"dataset\"],\n",
    "    #    column_specs=COLUMN_SPECS,\n",
    "    #    target_column=VAR_TARGET,\n",
    "    #).set_display_name('create_automl_model')\n",
    "    #\n",
    "    #automl_evaluation_metrics_collecting_task = automl_comp.collect_eval_metrics_automl(\n",
    "    #    region=region, \n",
    "    #    model=automl_creating_task.outputs[\"model\"]\n",
    "    #)\n",
    "    \n",
    "    ###################################\n",
    "    \n",
    "    #best_model_task = model_validation_comp.select_best_model(\n",
    "    #    automl_metrics=automl_evaluation_metrics_collecting_task.outputs[\"metrics\"],\n",
    "    #    automl_model=automl_creating_task.outputs[\"model\"],\n",
    "    #    bqml_metrics=bqml_evaluation_metrics_collecting_task.outputs[\"metrics\"],\n",
    "    #    bqml_model=bqml_creating_task.outputs[\"model\"],  #Argument type \"Model\" is incompatible with the input type \"google.VertexModel\"\n",
    "    #    reference_metric_name=REFERENCE_METRIC_NAME,\n",
    "    #    thresholds_dict=THRESHOLDS_DICT,\n",
    "    #)\n",
    "    \n",
    "    ##### DEPLOYMENT ############################### \n",
    "    #endpoint_creating_task = gcc_aip.EndpointCreateOp(\n",
    "    #    project=project,\n",
    "    #    location=region,\n",
    "    #    display_name=ENDPOINT_DISPLAY_NAME,\n",
    "    #).set_display_name('create_endpoint')\n",
    "    \n",
    "    #===============================#    \n",
    "    # If the deploy condition is True, then deploy the best model.\n",
    "    \n",
    "    #with dsl.Condition(\n",
    "    #    best_model_task.outputs[\"deploy_decision\"] == \"true\",\n",
    "    #    name=\"deploy_decision\",\n",
    "    #):\n",
    "    #           \n",
    "    #    #===============================#\n",
    "    #    with dsl.Condition(\n",
    "    #        best_model_task.outputs[\"best_model_name\"] == \"automl\",\n",
    "    #        name=\"deploy_automl\",\n",
    "    #    ): \n",
    "    #    \n",
    "    #        # deploy the model to endpoint\n",
    "    #        automl_model_deploy_task = gcc_aip.ModelDeployOp(\n",
    "    #            #model=best_model_task.outputs[\"best_model\"],\n",
    "    #            model=automl_creating_task.outputs[\"model\"],\n",
    "    #            endpoint=endpoint_creating_task.outputs[\"endpoint\"],\n",
    "    #            dedicated_resources_machine_type=DEPLOY_MACHINE_TYPE,\n",
    "    #            dedicated_resources_min_replica_count=DEPLOY_MIN_REPLICA_COUNT,\n",
    "    #            dedicated_resources_max_replica_count=DEPLOY_MAX_REPLICA_COUNT,\n",
    "    #            traffic_split={\"0\": 100},\n",
    "    #        ).set_display_name('deploy_model_to_endpoint')    \n",
    "            \n",
    "            ## validate an online prediction request to the recently deployed model\n",
    "            #serving_model_validating_task = serving_validation_comp.validate_serving(\n",
    "            #    endpoint=endpoint_creating_task.outputs[\"endpoint\"]\n",
    "            #).set_caching_options(False).after(automl_model_deploy_task)\n",
    "       \n",
    "    "
   ]
  },
  {
   "cell_type": "markdown",
   "id": "ec151116-54fb-4743-8ecc-b5284081e20b",
   "metadata": {},
   "source": [
    "## 2. Compile the Pipeline"
   ]
  },
  {
   "cell_type": "code",
   "execution_count": 32,
   "id": "7f8a9c2e-87b3-442a-ba26-a0397d907a3d",
   "metadata": {
    "tags": []
   },
   "outputs": [
    {
     "name": "stdout",
     "output_type": "stream",
     "text": [
      "time: 259 ms (started: 2022-11-24 01:13:14 +00:00)\n"
     ]
    }
   ],
   "source": [
    "# Create a new (local) directory to store the complied file\n",
    "DIR = f\"temp/{NOTEBOOK}\"\n",
    "!rm -rf {DIR}\n",
    "!mkdir -p {DIR}"
   ]
  },
  {
   "cell_type": "code",
   "execution_count": 33,
   "id": "13d5cdea-d6f0-4017-b218-7347bb22c3d0",
   "metadata": {
    "tags": []
   },
   "outputs": [
    {
     "name": "stdout",
     "output_type": "stream",
     "text": [
      "time: 14.2 ms (started: 2022-11-24 01:13:15 +00:00)\n"
     ]
    }
   ],
   "source": [
    "compiled_package = f\"{DIR}/compiled_package.json\"\n",
    "\n",
    "compiler.Compiler().compile(\n",
    "    pipeline_func = vertex_ai_pipeline,\n",
    "    package_path = compiled_package\n",
    ")"
   ]
  },
  {
   "cell_type": "markdown",
   "id": "020ffd92-c26c-41e8-9ba0-76d84a674e25",
   "metadata": {},
   "source": [
    "## 3. Execute the Pipeline on Vertex AI"
   ]
  },
  {
   "cell_type": "markdown",
   "id": "ca235704-e4bb-4d28-89bb-ba5f57435a9b",
   "metadata": {},
   "source": [
    "### 3.1. Create Vertex AI Pipeline Job"
   ]
  },
  {
   "cell_type": "code",
   "execution_count": 34,
   "id": "9a5bf56a-2794-4dd6-82df-1e2d04a7147f",
   "metadata": {},
   "outputs": [
    {
     "name": "stdout",
     "output_type": "stream",
     "text": [
      "time: 46.9 ms (started: 2022-11-24 01:13:17 +00:00)\n"
     ]
    }
   ],
   "source": [
    "pipeline_job = aip.PipelineJob(\n",
    "    display_name = f\"{APPNAME}\",\n",
    "    template_path = compiled_package,\n",
    "    pipeline_root=PIPELINE_URI,\n",
    "    parameter_values = {\n",
    "        \"project\": PROJECT,\n",
    "        \"region\": REGION,\n",
    "    },\n",
    "    #enable_caching = False,        #//TRUE, by default//\n",
    "    labels = {\n",
    "        'notebook':f'{NOTEBOOK}',\n",
    "        'app':f'{APPNAME}'}\n",
    ")"
   ]
  },
  {
   "cell_type": "markdown",
   "id": "6ac52c87-23f1-4aa5-ad24-82a1968a20b9",
   "metadata": {},
   "source": [
    "### 3.2. Run the job"
   ]
  },
  {
   "cell_type": "code",
   "execution_count": 35,
   "id": "38018f0c-8ec7-405b-a85d-8891489970d3",
   "metadata": {
    "tags": []
   },
   "outputs": [
    {
     "name": "stdout",
     "output_type": "stream",
     "text": [
      "Creating PipelineJob\n",
      "PipelineJob created. Resource name: projects/69318036822/locations/us-west1/pipelineJobs/bw-prediction-20221124011317\n",
      "To use this PipelineJob in another session:\n",
      "pipeline_job = aiplatform.PipelineJob.get('projects/69318036822/locations/us-west1/pipelineJobs/bw-prediction-20221124011317')\n",
      "View Pipeline Job:\n",
      "https://console.cloud.google.com/vertex-ai/locations/us-west1/pipelines/runs/bw-prediction-20221124011317?project=69318036822\n",
      "PipelineJob projects/69318036822/locations/us-west1/pipelineJobs/bw-prediction-20221124011317 current state:\n",
      "PipelineState.PIPELINE_STATE_RUNNING\n",
      "PipelineJob projects/69318036822/locations/us-west1/pipelineJobs/bw-prediction-20221124011317 current state:\n",
      "PipelineState.PIPELINE_STATE_RUNNING\n",
      "PipelineJob projects/69318036822/locations/us-west1/pipelineJobs/bw-prediction-20221124011317 current state:\n",
      "PipelineState.PIPELINE_STATE_RUNNING\n",
      "PipelineJob projects/69318036822/locations/us-west1/pipelineJobs/bw-prediction-20221124011317 current state:\n",
      "PipelineState.PIPELINE_STATE_RUNNING\n",
      "PipelineJob projects/69318036822/locations/us-west1/pipelineJobs/bw-prediction-20221124011317 current state:\n",
      "PipelineState.PIPELINE_STATE_RUNNING\n",
      "PipelineJob run completed. Resource name: projects/69318036822/locations/us-west1/pipelineJobs/bw-prediction-20221124011317\n",
      "time: 4min 45s (started: 2022-11-24 01:13:18 +00:00)\n"
     ]
    }
   ],
   "source": [
    "response = pipeline_job.run(\n",
    "    service_account = SERVICE_ACCOUNT,\n",
    "    #sync = True\n",
    ")"
   ]
  },
  {
   "cell_type": "markdown",
   "id": "eb255607-9934-4437-9a28-48667123037d",
   "metadata": {},
   "source": [
    "## 4. View the Pipeline results"
   ]
  },
  {
   "cell_type": "code",
   "execution_count": 49,
   "id": "2ac7ac6d-b999-4461-a7e9-093453857298",
   "metadata": {
    "tags": []
   },
   "outputs": [
    {
     "data": {
      "text/html": [
       "<div>\n",
       "<style scoped>\n",
       "    .dataframe tbody tr th:only-of-type {\n",
       "        vertical-align: middle;\n",
       "    }\n",
       "\n",
       "    .dataframe tbody tr th {\n",
       "        vertical-align: top;\n",
       "    }\n",
       "\n",
       "    .dataframe thead th {\n",
       "        text-align: right;\n",
       "    }\n",
       "</style>\n",
       "<table border=\"1\" class=\"dataframe\">\n",
       "  <thead>\n",
       "    <tr style=\"text-align: right;\">\n",
       "      <th></th>\n",
       "      <th>pipeline_name</th>\n",
       "      <th>run_name</th>\n",
       "      <th>param.input:service_account</th>\n",
       "      <th>param.input:region</th>\n",
       "      <th>param.input:project</th>\n",
       "      <th>metric.rootMeanSquaredError</th>\n",
       "      <th>metric.rSquared</th>\n",
       "      <th>metric.meanAbsolutePercentageError</th>\n",
       "      <th>metric.framework</th>\n",
       "      <th>metric.meanAbsoluteError</th>\n",
       "      <th>metric.rootMeanSquaredLogError</th>\n",
       "      <th>metric.root_mean_squared_error</th>\n",
       "      <th>metric.mean_squared_log_error</th>\n",
       "      <th>metric.mean_absolute_error</th>\n",
       "      <th>metric.median_absolute_error</th>\n",
       "      <th>metric.mean_squared_error</th>\n",
       "      <th>metric.explained_variance</th>\n",
       "      <th>metric.r2_score</th>\n",
       "      <th>metric.trial_id</th>\n",
       "    </tr>\n",
       "  </thead>\n",
       "  <tbody>\n",
       "    <tr>\n",
       "      <th>0</th>\n",
       "      <td>surgical-duration-prediction22</td>\n",
       "      <td>surgical-duration-prediction22-20221122162059</td>\n",
       "      <td>157478440416-compute@developer.gserviceaccount...</td>\n",
       "      <td>us-central1</td>\n",
       "      <td>hospital22</td>\n",
       "      <td>26.619960</td>\n",
       "      <td>0.704096</td>\n",
       "      <td>27.857445</td>\n",
       "      <td>BQML</td>\n",
       "      <td>15.809781</td>\n",
       "      <td>0.330613</td>\n",
       "      <td>44.961324</td>\n",
       "      <td>0.28329</td>\n",
       "      <td>33.417445</td>\n",
       "      <td>25.420334</td>\n",
       "      <td>2021.520614</td>\n",
       "      <td>0.504429</td>\n",
       "      <td>0.438615</td>\n",
       "      <td>2.0</td>\n",
       "    </tr>\n",
       "    <tr>\n",
       "      <th>1</th>\n",
       "      <td>surgical-duration-prediction22</td>\n",
       "      <td>surgical-duration-prediction22-20221122161252</td>\n",
       "      <td>157478440416-compute@developer.gserviceaccount...</td>\n",
       "      <td>us-central1</td>\n",
       "      <td>hospital22</td>\n",
       "      <td>NaN</td>\n",
       "      <td>NaN</td>\n",
       "      <td>NaN</td>\n",
       "      <td>BQML</td>\n",
       "      <td>NaN</td>\n",
       "      <td>NaN</td>\n",
       "      <td>44.961324</td>\n",
       "      <td>0.28329</td>\n",
       "      <td>33.417445</td>\n",
       "      <td>25.420334</td>\n",
       "      <td>2021.520614</td>\n",
       "      <td>0.504429</td>\n",
       "      <td>0.438615</td>\n",
       "      <td>2.0</td>\n",
       "    </tr>\n",
       "    <tr>\n",
       "      <th>2</th>\n",
       "      <td>surgical-duration-prediction22</td>\n",
       "      <td>surgical-duration-prediction22-20221122161021</td>\n",
       "      <td>157478440416-compute@developer.gserviceaccount...</td>\n",
       "      <td>us-central1</td>\n",
       "      <td>hospital22</td>\n",
       "      <td>NaN</td>\n",
       "      <td>NaN</td>\n",
       "      <td>NaN</td>\n",
       "      <td>NaN</td>\n",
       "      <td>NaN</td>\n",
       "      <td>NaN</td>\n",
       "      <td>NaN</td>\n",
       "      <td>NaN</td>\n",
       "      <td>NaN</td>\n",
       "      <td>NaN</td>\n",
       "      <td>NaN</td>\n",
       "      <td>NaN</td>\n",
       "      <td>NaN</td>\n",
       "      <td>NaN</td>\n",
       "    </tr>\n",
       "    <tr>\n",
       "      <th>3</th>\n",
       "      <td>surgical-duration-prediction22</td>\n",
       "      <td>surgical-duration-prediction22-20221118220526</td>\n",
       "      <td>157478440416-compute@developer.gserviceaccount...</td>\n",
       "      <td>us-central1</td>\n",
       "      <td>hospital22</td>\n",
       "      <td>31.775457</td>\n",
       "      <td>0.726471</td>\n",
       "      <td>25.728306</td>\n",
       "      <td>BQML</td>\n",
       "      <td>19.418163</td>\n",
       "      <td>0.320118</td>\n",
       "      <td>44.961324</td>\n",
       "      <td>0.28329</td>\n",
       "      <td>33.417445</td>\n",
       "      <td>25.420334</td>\n",
       "      <td>2021.520614</td>\n",
       "      <td>0.504429</td>\n",
       "      <td>0.438615</td>\n",
       "      <td>2.0</td>\n",
       "    </tr>\n",
       "    <tr>\n",
       "      <th>4</th>\n",
       "      <td>surgical-duration-prediction22</td>\n",
       "      <td>surgical-duration-prediction22-20221118213939</td>\n",
       "      <td>157478440416-compute@developer.gserviceaccount...</td>\n",
       "      <td>us-central1</td>\n",
       "      <td>hospital22</td>\n",
       "      <td>31.775457</td>\n",
       "      <td>0.726471</td>\n",
       "      <td>25.728306</td>\n",
       "      <td>AutoML</td>\n",
       "      <td>19.418163</td>\n",
       "      <td>0.320118</td>\n",
       "      <td>44.961324</td>\n",
       "      <td>0.28329</td>\n",
       "      <td>33.417445</td>\n",
       "      <td>25.420334</td>\n",
       "      <td>2021.520614</td>\n",
       "      <td>0.504429</td>\n",
       "      <td>0.438615</td>\n",
       "      <td>2.0</td>\n",
       "    </tr>\n",
       "    <tr>\n",
       "      <th>5</th>\n",
       "      <td>surgical-duration-prediction22</td>\n",
       "      <td>surgical-duration-prediction22-20221118213632</td>\n",
       "      <td>157478440416-compute@developer.gserviceaccount...</td>\n",
       "      <td>us-central1</td>\n",
       "      <td>hospital22</td>\n",
       "      <td>31.775457</td>\n",
       "      <td>0.726471</td>\n",
       "      <td>25.728306</td>\n",
       "      <td>BQML</td>\n",
       "      <td>19.418163</td>\n",
       "      <td>0.320118</td>\n",
       "      <td>44.961324</td>\n",
       "      <td>0.28329</td>\n",
       "      <td>33.417445</td>\n",
       "      <td>25.420334</td>\n",
       "      <td>2021.520614</td>\n",
       "      <td>0.504429</td>\n",
       "      <td>0.438615</td>\n",
       "      <td>2.0</td>\n",
       "    </tr>\n",
       "    <tr>\n",
       "      <th>6</th>\n",
       "      <td>surgical-duration-prediction22</td>\n",
       "      <td>surgical-duration-prediction22-20221118213104</td>\n",
       "      <td>157478440416-compute@developer.gserviceaccount...</td>\n",
       "      <td>us-central1</td>\n",
       "      <td>hospital22</td>\n",
       "      <td>31.775457</td>\n",
       "      <td>0.726471</td>\n",
       "      <td>25.728306</td>\n",
       "      <td>AutoML</td>\n",
       "      <td>19.418163</td>\n",
       "      <td>0.320118</td>\n",
       "      <td>44.961324</td>\n",
       "      <td>0.28329</td>\n",
       "      <td>33.417445</td>\n",
       "      <td>25.420334</td>\n",
       "      <td>2021.520614</td>\n",
       "      <td>0.504429</td>\n",
       "      <td>0.438615</td>\n",
       "      <td>2.0</td>\n",
       "    </tr>\n",
       "    <tr>\n",
       "      <th>7</th>\n",
       "      <td>surgical-duration-prediction22</td>\n",
       "      <td>surgical-duration-prediction22-20221118190649</td>\n",
       "      <td>157478440416-compute@developer.gserviceaccount...</td>\n",
       "      <td>us-central1</td>\n",
       "      <td>hospital22</td>\n",
       "      <td>NaN</td>\n",
       "      <td>NaN</td>\n",
       "      <td>NaN</td>\n",
       "      <td>BQML</td>\n",
       "      <td>NaN</td>\n",
       "      <td>NaN</td>\n",
       "      <td>44.961324</td>\n",
       "      <td>0.28329</td>\n",
       "      <td>33.417445</td>\n",
       "      <td>25.420334</td>\n",
       "      <td>2021.520614</td>\n",
       "      <td>0.504429</td>\n",
       "      <td>0.438615</td>\n",
       "      <td>2.0</td>\n",
       "    </tr>\n",
       "    <tr>\n",
       "      <th>8</th>\n",
       "      <td>surgical-duration-prediction22</td>\n",
       "      <td>surgical-duration-prediction22-20221118184816</td>\n",
       "      <td>157478440416-compute@developer.gserviceaccount...</td>\n",
       "      <td>us-central1</td>\n",
       "      <td>hospital22</td>\n",
       "      <td>NaN</td>\n",
       "      <td>NaN</td>\n",
       "      <td>NaN</td>\n",
       "      <td>BQML</td>\n",
       "      <td>NaN</td>\n",
       "      <td>NaN</td>\n",
       "      <td>44.961324</td>\n",
       "      <td>0.28329</td>\n",
       "      <td>33.417445</td>\n",
       "      <td>25.420334</td>\n",
       "      <td>2021.520614</td>\n",
       "      <td>0.504429</td>\n",
       "      <td>0.438615</td>\n",
       "      <td>2.0</td>\n",
       "    </tr>\n",
       "  </tbody>\n",
       "</table>\n",
       "</div>"
      ],
      "text/plain": [
       "                    pipeline_name  \\\n",
       "0  surgical-duration-prediction22   \n",
       "1  surgical-duration-prediction22   \n",
       "2  surgical-duration-prediction22   \n",
       "3  surgical-duration-prediction22   \n",
       "4  surgical-duration-prediction22   \n",
       "5  surgical-duration-prediction22   \n",
       "6  surgical-duration-prediction22   \n",
       "7  surgical-duration-prediction22   \n",
       "8  surgical-duration-prediction22   \n",
       "\n",
       "                                        run_name  \\\n",
       "0  surgical-duration-prediction22-20221122162059   \n",
       "1  surgical-duration-prediction22-20221122161252   \n",
       "2  surgical-duration-prediction22-20221122161021   \n",
       "3  surgical-duration-prediction22-20221118220526   \n",
       "4  surgical-duration-prediction22-20221118213939   \n",
       "5  surgical-duration-prediction22-20221118213632   \n",
       "6  surgical-duration-prediction22-20221118213104   \n",
       "7  surgical-duration-prediction22-20221118190649   \n",
       "8  surgical-duration-prediction22-20221118184816   \n",
       "\n",
       "                         param.input:service_account param.input:region  \\\n",
       "0  157478440416-compute@developer.gserviceaccount...        us-central1   \n",
       "1  157478440416-compute@developer.gserviceaccount...        us-central1   \n",
       "2  157478440416-compute@developer.gserviceaccount...        us-central1   \n",
       "3  157478440416-compute@developer.gserviceaccount...        us-central1   \n",
       "4  157478440416-compute@developer.gserviceaccount...        us-central1   \n",
       "5  157478440416-compute@developer.gserviceaccount...        us-central1   \n",
       "6  157478440416-compute@developer.gserviceaccount...        us-central1   \n",
       "7  157478440416-compute@developer.gserviceaccount...        us-central1   \n",
       "8  157478440416-compute@developer.gserviceaccount...        us-central1   \n",
       "\n",
       "  param.input:project  metric.rootMeanSquaredError  metric.rSquared  \\\n",
       "0          hospital22                    26.619960         0.704096   \n",
       "1          hospital22                          NaN              NaN   \n",
       "2          hospital22                          NaN              NaN   \n",
       "3          hospital22                    31.775457         0.726471   \n",
       "4          hospital22                    31.775457         0.726471   \n",
       "5          hospital22                    31.775457         0.726471   \n",
       "6          hospital22                    31.775457         0.726471   \n",
       "7          hospital22                          NaN              NaN   \n",
       "8          hospital22                          NaN              NaN   \n",
       "\n",
       "   metric.meanAbsolutePercentageError metric.framework  \\\n",
       "0                           27.857445             BQML   \n",
       "1                                 NaN             BQML   \n",
       "2                                 NaN              NaN   \n",
       "3                           25.728306             BQML   \n",
       "4                           25.728306           AutoML   \n",
       "5                           25.728306             BQML   \n",
       "6                           25.728306           AutoML   \n",
       "7                                 NaN             BQML   \n",
       "8                                 NaN             BQML   \n",
       "\n",
       "   metric.meanAbsoluteError  metric.rootMeanSquaredLogError  \\\n",
       "0                 15.809781                        0.330613   \n",
       "1                       NaN                             NaN   \n",
       "2                       NaN                             NaN   \n",
       "3                 19.418163                        0.320118   \n",
       "4                 19.418163                        0.320118   \n",
       "5                 19.418163                        0.320118   \n",
       "6                 19.418163                        0.320118   \n",
       "7                       NaN                             NaN   \n",
       "8                       NaN                             NaN   \n",
       "\n",
       "   metric.root_mean_squared_error  metric.mean_squared_log_error  \\\n",
       "0                       44.961324                        0.28329   \n",
       "1                       44.961324                        0.28329   \n",
       "2                             NaN                            NaN   \n",
       "3                       44.961324                        0.28329   \n",
       "4                       44.961324                        0.28329   \n",
       "5                       44.961324                        0.28329   \n",
       "6                       44.961324                        0.28329   \n",
       "7                       44.961324                        0.28329   \n",
       "8                       44.961324                        0.28329   \n",
       "\n",
       "   metric.mean_absolute_error  metric.median_absolute_error  \\\n",
       "0                   33.417445                     25.420334   \n",
       "1                   33.417445                     25.420334   \n",
       "2                         NaN                           NaN   \n",
       "3                   33.417445                     25.420334   \n",
       "4                   33.417445                     25.420334   \n",
       "5                   33.417445                     25.420334   \n",
       "6                   33.417445                     25.420334   \n",
       "7                   33.417445                     25.420334   \n",
       "8                   33.417445                     25.420334   \n",
       "\n",
       "   metric.mean_squared_error  metric.explained_variance  metric.r2_score  \\\n",
       "0                2021.520614                   0.504429         0.438615   \n",
       "1                2021.520614                   0.504429         0.438615   \n",
       "2                        NaN                        NaN              NaN   \n",
       "3                2021.520614                   0.504429         0.438615   \n",
       "4                2021.520614                   0.504429         0.438615   \n",
       "5                2021.520614                   0.504429         0.438615   \n",
       "6                2021.520614                   0.504429         0.438615   \n",
       "7                2021.520614                   0.504429         0.438615   \n",
       "8                2021.520614                   0.504429         0.438615   \n",
       "\n",
       "   metric.trial_id  \n",
       "0              2.0  \n",
       "1              2.0  \n",
       "2              NaN  \n",
       "3              2.0  \n",
       "4              2.0  \n",
       "5              2.0  \n",
       "6              2.0  \n",
       "7              2.0  \n",
       "8              2.0  "
      ]
     },
     "execution_count": 49,
     "metadata": {},
     "output_type": "execute_result"
    },
    {
     "name": "stdout",
     "output_type": "stream",
     "text": [
      "time: 1.17 s (started: 2022-11-22 18:46:01 +00:00)\n"
     ]
    }
   ],
   "source": [
    "pipeline_df = aip.get_pipeline_df(APPNAME)\n",
    "pipeline_df = pipeline_df[pipeline_df.pipeline_name == APPNAME]\n",
    "pipeline_df"
   ]
  },
  {
   "cell_type": "code",
   "execution_count": 50,
   "id": "371f5b9e-b32c-4e72-9ca8-7350a7634059",
   "metadata": {},
   "outputs": [
    {
     "name": "stdout",
     "output_type": "stream",
     "text": [
      "PROJECT_NUMBER: 157478440416\n",
      "PIPELINE_JOB_ID: surgical-duration-prediction22-20221122162059\n",
      "PIPELINE_TASKS_URI: gs://bucket-hospital/surgical-duration-prediction22/157478440416/surgical-duration-prediction22-20221122162059\n",
      "time: 1.33 ms (started: 2022-11-22 18:46:05 +00:00)\n"
     ]
    }
   ],
   "source": [
    "PROJECT_NUMBER = pipeline_job.resource_name.split(\"/\")[1]\n",
    "PIPELINE_JOB_ID = pipeline_job.name\n",
    "PIPELINE_TASKS_URI = f\"{PIPELINE_URI}/{PROJECT_NUMBER}/{PIPELINE_JOB_ID}\"\n",
    "\n",
    "print(\"PROJECT_NUMBER:\",PROJECT_NUMBER)\n",
    "print(\"PIPELINE_JOB_ID:\",PIPELINE_JOB_ID)\n",
    "print(\"PIPELINE_TASKS_URI:\",PIPELINE_TASKS_URI)"
   ]
  },
  {
   "cell_type": "code",
   "execution_count": 51,
   "id": "10adb13f-a372-48e6-af8b-815474a421d9",
   "metadata": {
    "tags": []
   },
   "outputs": [
    {
     "name": "stdout",
     "output_type": "stream",
     "text": [
      "All pipeline tasks:\n",
      " 0: automl-tabular-training-job\n",
      " 1: select-best-model\n",
      " 2: collect-eval-metrics-bqml\n",
      " 3: surgical-duration-prediction22-20221122162059\n",
      " 4: condition-deploy-automl-2\n",
      " 5: bigquery-evaluate-model-job\n",
      " 6: create-prepped-table\n",
      " 7: endpoint-create\n",
      " 8: collect-eval-metrics-automl\n",
      " 9: model-deploy\n",
      " 10: bigquery-create-model-job\n",
      " 11: tabular-dataset-create\n",
      " 12: condition-deploy-decision-1\n",
      "--- Index of `endpoint-create` task: 7\n",
      "time: 1.71 ms (started: 2022-11-22 18:46:08 +00:00)\n"
     ]
    }
   ],
   "source": [
    "all_pipeline_tasks = pipeline_job.gca_resource.job_detail.task_details\n",
    "endpoint_create_task_index = 0 \n",
    "print(\"All pipeline tasks:\")\n",
    "for i in range (len(all_pipeline_tasks)):\n",
    "    print(f\" {i}: {all_pipeline_tasks[i].task_name}\")\n",
    "    if all_pipeline_tasks[i].task_name ==\"endpoint-create\": endpoint_create_task_index = i \n",
    "\n",
    "print(\"--- Index of `endpoint-create` task:\", endpoint_create_task_index)"
   ]
  },
  {
   "cell_type": "code",
   "execution_count": 52,
   "id": "cff8def9-0fcf-4658-8e8b-c252dad725c0",
   "metadata": {},
   "outputs": [
    {
     "data": {
      "text/plain": [
       "'projects/157478440416/locations/us-central1/endpoints/8601070445766115328'"
      ]
     },
     "execution_count": 52,
     "metadata": {},
     "output_type": "execute_result"
    },
    {
     "name": "stdout",
     "output_type": "stream",
     "text": [
      "time: 5.14 ms (started: 2022-11-22 18:46:11 +00:00)\n"
     ]
    }
   ],
   "source": [
    "endpoint_resource_name = all_pipeline_tasks[endpoint_create_task_index].outputs[\"endpoint\"].artifacts[0].metadata[\"resourceName\"]\n",
    "endpoint_resource_name"
   ]
  },
  {
   "cell_type": "markdown",
   "id": "51b0a3df-b67e-4f04-867e-51931ec89a0f",
   "metadata": {},
   "source": [
    "***Click here to verify:***  \n",
    "https://console.cloud.google.com/vertex-ai/locations/us-central1/endpoints/5840539796048445440?project=asc-ahnat-adsi-sandbox"
   ]
  },
  {
   "cell_type": "markdown",
   "id": "3519a545-2599-4894-8fd1-f18b865c516e",
   "metadata": {},
   "source": []
  },
  {
   "cell_type": "code",
   "execution_count": null,
   "id": "17e93af1-23cd-4b81-a756-14738e5c4015",
   "metadata": {},
   "outputs": [],
   "source": []
  },
  {
   "cell_type": "code",
   "execution_count": null,
   "id": "10ebf5f2-d000-46f5-b745-ee96dc376b1f",
   "metadata": {},
   "outputs": [],
   "source": []
  },
  {
   "cell_type": "code",
   "execution_count": null,
   "id": "fe3daaa8-de8b-4d2d-a86a-51cfbca185a3",
   "metadata": {},
   "outputs": [],
   "source": []
  },
  {
   "cell_type": "code",
   "execution_count": null,
   "id": "9b589700-21cb-4d04-a9a4-2e85eab36e56",
   "metadata": {},
   "outputs": [],
   "source": []
  }
 ],
 "metadata": {
  "environment": {
   "kernel": "python3",
   "name": "tf2-gpu.2-8.m100",
   "type": "gcloud",
   "uri": "gcr.io/deeplearning-platform-release/tf2-gpu.2-8:m100"
  },
  "kernelspec": {
   "display_name": "Python 3",
   "language": "python",
   "name": "python3"
  },
  "language_info": {
   "codemirror_mode": {
    "name": "ipython",
    "version": 3
   },
   "file_extension": ".py",
   "mimetype": "text/x-python",
   "name": "python",
   "nbconvert_exporter": "python",
   "pygments_lexer": "ipython3",
   "version": "3.7.12"
  }
 },
 "nbformat": 4,
 "nbformat_minor": 5
}
